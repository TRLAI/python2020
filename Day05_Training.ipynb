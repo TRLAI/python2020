#第一题
a = ['1','2','3','4']
 
b=[]
for i in a:
    print(i)
    for j in [x for x  in a if x!=i]:
        print(j)
        for m in [x for x in a if x!=i and x!=j]:
            print(m)
            b.append(int(i+j+m))
print(b)
print('互不相同且无重复数字的三位数总计 %s 个'%len(b))
#第二题
x=float(input("please enter the profit:"))
if x<=10:
    sum=x*0.1
if x>10 and x<=20:
    sum=10*0.1+(x-10)*0.075
if x>20 and x<=40:
    sum=10*0.1+(20-10)*0.075+(x-20)*0.05
if x>40 and x<=60:
    sum=10*0.1+(20-10)*0.075+(40-20)*0.05+(x-40)*0.03
if x>60 and x<=100:
    sum=10*0.1+(20-10)*0.075+(40-20)*0.05+(60-40)*0.03+(x-60)*0.015
if x>100:
    sum=10*0.1+(20-10)*0.075+(40-20)*0.05+(60-40)*0.03+(100-60)*0.015+(x-100)*0.01
print(sum)
#第三题
num=[]
for i in range(3):
    number=int(input('请输入第{}个整数：'.format(i+1)))
    num.append(number)
num.sort(reverse=True)
print(num)
#第四题
L = [2, 3, 1, 0, 12, 11, 4, 5]
L1 = []
L1_1 = []
L2 = []
L3 = []
for i in range(0,len(L)):
	L1.append(L[i])
	L1_1 = L[i]
L2 = L
L3 = L.copy()
L.sort()
print(L)
print(L1)
print(L1_1)
print(L2)
print(L3)
#第五题
import time
print(time.strftime('%Y-%m-%d %H:%M:%S', time.localtime()))
time.sleep(1)
print(time.strftime('%Y-%m-%d %H:%M:%S', time.localtime()))
#第六题
for i in range(100,1000):
        ge=i%10
        shi=i//10%10
        bai=i//100
        if ge**3+shi**3+bai**3==i:
                print(i,end=" ")
#第七题
s=input('input a string:\n')
letters=0
space=0
digit=0
others=0
for c in s:
    if c.isalpha():
        letters+=1
    elif c.isspace():
        space+=1
    elif c.isdigit():
        digit+=1
    else:
        others+=1
print('char=%d,space=%d,digit=%d,others=%d'%(letters,space,digit,others))
#第八题
times = 10
height_sum = 100
height_list = [100]  # 第一次落下的高度为height_list[0]=100米
for i in range(1, times):
    # 每次下落的高度均为上次高度的一半
    height_list.append(height_list[i-1] / 2)
    height_sum += height_list[i] * 2
print("第10次落地时，共经过 %f 米" % height_sum)
# 第十次反弹的高度即第九次下落的高度一半
print("第10次反弹 %.8f 米" % (height_list[times - 1] / 2))
