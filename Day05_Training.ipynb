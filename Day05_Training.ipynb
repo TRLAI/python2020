{
 "cells": [
  {
   "cell_type": "markdown",
   "metadata": {},
   "source": [
    "# Day05 练习题\n",
    "# T01\n",
    "有四个数字：1、2、3、4，能组成多少个互不相同且无重复数字的三位数？各是多少？\n"
   ]
  },
  {
   "cell_type": "code",
   "execution_count": 1,
   "metadata": {},
   "outputs": [
    {
     "name": "stdout",
     "output_type": "stream",
     "text": [
      "[123, 124, 132, 134, 142, 143, 213, 214, 231, 234, 241, 243, 312, 314, 321, 324, 341, 342, 412, 413, 421, 423, 431, 432]\n",
      "总归能组成互不相同且无重复数字 24 个\n"
     ]
    }
   ],
   "source": [
    "a = ['1','2','3','4']\n",
    "b=[]\n",
    "for i in a:\n",
    "    for j in [x for x  in a if x!=i]:       \n",
    "       for m in [x for x in a if x!=i and x!=j]: \n",
    "            b.append(int(i+j+m))\n",
    "print(b)\n",
    "print('总归能组成互不相同且无重复数字 %s 个'%len(b))\n"
   ]
  },
  {
   "cell_type": "markdown",
   "metadata": {},
   "source": [
    "# T02\n",
    "企业发放的奖金根据利润提成。利润(I)低于或等于10万元时，奖金可提10%；利润高于10万元，低于20万元时，低于10万元的部分按10%提成，高于10万元的部分，可提成7.5%；20万到40万之间时，高于20万元的部分，可提成5%；40万到60万之间时高于40万元的部分，可提成3%；60万到100万之间时，高于60万元的部分，可提成1.5%，高于100万元时，超过100万元的部分按1%提成，从键盘输入当月利润I，求应发放奖金总数？"
   ]
  },
  {
   "cell_type": "code",
   "execution_count": 2,
   "metadata": {},
   "outputs": [
    {
     "name": "stdout",
     "output_type": "stream",
     "text": [
      "请输入当月利润i（元）：1000000\n",
      "应发放奖金总数为： 39500\n"
     ]
    }
   ],
   "source": [
    "i = int(input(\"请输入当月利润i（元）：\"))\n",
    "m = 0\n",
    "\n",
    "lr = [1000000, 600000, 400000, 200000, 100000, 0]\n",
    "jj = [0.01, 0.015, 0.03, 0.05, 0.075, 0.1]\n",
    "\n",
    "for t in range(6):\n",
    "    if i >= lr[t]:\n",
    "        m += jj[t] * (i - lr[t])\n",
    "        i = lr[t]\n",
    "\n",
    "print(\"应发放奖金总数为： %d\" % m)\n"
   ]
  },
  {
   "cell_type": "markdown",
   "metadata": {},
   "source": [
    "# T03\n",
    "输入三个整数x,y,z，请把这三个数由小到大输出"
   ]
  },
  {
   "cell_type": "code",
   "execution_count": 4,
   "metadata": {},
   "outputs": [
    {
     "name": "stdout",
     "output_type": "stream",
     "text": [
      "请输入三个整数：\n",
      "6\n",
      "3\n",
      "10\n",
      "[3, 6, 10]\n"
     ]
    }
   ],
   "source": [
    "print(\"请输入三个整数：\")\n",
    "a_list = []\n",
    "for i in range(3):\n",
    "    a_list.append(int(input()))\n",
    "a_list.sort()\n",
    "print(a_list)\n"
   ]
  },
  {
   "cell_type": "markdown",
   "metadata": {},
   "source": [
    "# T04\n",
    "将一个列表的数据复制到另一个列表中"
   ]
  },
  {
   "cell_type": "code",
   "execution_count": 5,
   "metadata": {},
   "outputs": [
    {
     "name": "stdout",
     "output_type": "stream",
     "text": [
      "[1, 2, 3]\n"
     ]
    }
   ],
   "source": [
    "a = [1, 2, 3]\n",
    "b = []\n",
    "for i in range(3):\n",
    "    b.append(a[i])\n",
    "print(b)\n"
   ]
  },
  {
   "cell_type": "markdown",
   "metadata": {},
   "source": [
    "# T05\n",
    "暂停一秒输出,并格式化当前时间。使用 time 模块的 sleep() 函数。"
   ]
  },
  {
   "cell_type": "code",
   "execution_count": 6,
   "metadata": {},
   "outputs": [
    {
     "name": "stdout",
     "output_type": "stream",
     "text": [
      "2020-11-17 18:33:50\n",
      "2020-11-17 18:33:51\n"
     ]
    }
   ],
   "source": [
    "import time\n",
    "print(time.strftime(\"%Y-%m-%d %H:%M:%S\", time.localtime()))\n",
    "time.sleep(1)\n",
    "print(time.strftime(\"%Y-%m-%d %H:%M:%S\", time.localtime()))\n"
   ]
  },
  {
   "cell_type": "markdown",
   "metadata": {},
   "source": [
    "# T06\n",
    "打印出所有的\"水仙花数\"，所谓\"水仙花数\"是指一个三位数，其各位数字立方和等于该数本身。例如：153是一个\"水仙花数\"，因为153=1的三次方＋5的三次方＋3的三次方。"
   ]
  },
  {
   "cell_type": "code",
   "execution_count": 7,
   "metadata": {},
   "outputs": [
    {
     "name": "stdout",
     "output_type": "stream",
     "text": [
      "1\n",
      "2\n",
      "3\n",
      "4\n",
      "5\n",
      "6\n",
      "7\n",
      "8\n",
      "9\n",
      "153\n",
      "370\n",
      "371\n",
      "407\n",
      "1634\n",
      "8208\n",
      "9474\n",
      "54748\n",
      "92727\n",
      "93084\n",
      "548834\n",
      "1741725\n",
      "4210818\n",
      "9800817\n",
      "9926315\n"
     ]
    }
   ],
   "source": [
    "start = 1\n",
    "end = 10 ** 7\n",
    "for i in range(start, end + 1):\n",
    "    sm = 0\n",
    "    for j in str(i):\n",
    "        sm += (ord(j) - 48) ** len(str(i))\n",
    "    # 判断是否为水仙花数\n",
    "    if sm == i:\n",
    "        print(i)\n"
   ]
  },
  {
   "cell_type": "markdown",
   "metadata": {},
   "source": [
    "# T07\n",
    "输入一行字符，分别统计出其中英文字母、空格、数字和其它字符的个数。"
   ]
  },
  {
   "cell_type": "code",
   "execution_count": 9,
   "metadata": {},
   "outputs": [
    {
     "name": "stdout",
     "output_type": "stream",
     "text": [
      "请输入字符串：python 2020 ai\n",
      "字母=8\n",
      "数字=4\n",
      "空格=2\n",
      "其他=0\n"
     ]
    }
   ],
   "source": [
    "tmpStr = input('请输入字符串：')\n",
    "alphaNum=0\n",
    "numbers=0\n",
    "spaceNum=0\n",
    "otherNum=0\n",
    "for i in tmpStr:\n",
    "    if i.isalpha():\n",
    "        alphaNum +=1\n",
    "    elif i.isnumeric():\n",
    "        numbers +=1\n",
    "    elif i.isspace():\n",
    "        spaceNum +=1\n",
    "    else:\n",
    "        otherNum +=1\n",
    "print('字母=%d'%alphaNum)\n",
    "print('数字=%d'%numbers)\n",
    "print('空格=%d'%spaceNum)\n",
    "print('其他=%d'%otherNum)"
   ]
  },
  {
   "cell_type": "markdown",
   "metadata": {},
   "source": [
    "# T08\n",
    "一球从100米高度自由落下，每次落地后反跳回原高度的一半；再落下，求它在第10次落地时，共经过多少米？第10次反弹多高？\n"
   ]
  },
  {
   "cell_type": "code",
   "execution_count": 10,
   "metadata": {},
   "outputs": [
    {
     "name": "stdout",
     "output_type": "stream",
     "text": [
      "总高度：tour = 299.21875\n",
      "第10次反弹高度：height = 0.1953125\n"
     ]
    }
   ],
   "source": [
    "tour = []\n",
    "height = []\n",
    "\n",
    "hei = 100\n",
    "time = 10\n",
    "for i in range(2, time + 1):\n",
    "    if i == 2:\n",
    "        tour.append(hei)\n",
    "    else:\n",
    "        tour.append(hei * 2)\n",
    "    hei /= 2\n",
    "    height.append(hei)\n",
    "\n",
    "print(\"总高度：tour = {0}\".format(sum(tour)))\n",
    "print(\"第10次反弹高度：height = {0}\".format(height[-1]))\n"
   ]
  },
  {
   "cell_type": "code",
   "execution_count": null,
   "metadata": {},
   "outputs": [],
   "source": []
  }
 ],
 "metadata": {
  "kernelspec": {
   "display_name": "Python 3",
   "language": "python",
   "name": "python3"
  },
  "language_info": {
   "codemirror_mode": {
    "name": "ipython",
    "version": 3
   },
   "file_extension": ".py",
   "mimetype": "text/x-python",
   "name": "python",
   "nbconvert_exporter": "python",
   "pygments_lexer": "ipython3",
   "version": "3.8.3"
  }
 },
 "nbformat": 4,
 "nbformat_minor": 4
}
