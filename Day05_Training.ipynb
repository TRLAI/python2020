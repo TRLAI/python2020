1
a_set = [1,2,3,4]
for i in a_set:
    for j in a_set:
        for k in a_set:
            if i != j and i !=k and j !=k:
                print(i, j, k, end='')
                print()

2
I = float(input("请输入当月利润，单位为万元："))
if I <= 10:
     bns = 10 * 0.1
elif 10 < I <= 20:
     bns = 10 * 0.1 + (I-10) * 0.075
elif 20 < I <= 40:
     bns = 10 * 0.1 + 10 * 0.075 + (I-20) * 0.05
elif 40 < I <= 60:
     bns = 10 * 0.1+ 10 * 0.075 + 20 * 0.05 + (I-40) * 0.03
elif 60 < I <= 100:
     bns = 10 * 0.1+ 10 * 0.075 + 20 * 0.05 + 20 * 0.03 + (I-60) * 0.015
elif I > 100:
     bns = 10 * 0.1 + 10 * 0.075 + 20 * 0.05 + 20 * 0.03 + 40 * 0.015 + (I-100) * 0.015
print(bns,'万元')

3
x = int(input("请输入第一个数: "))
y = int(input("请输入第二个数: "))
z = int(input("请输入第三个数: "))

if x > y:
    x, y = y, x
if x > z:
    x, z = z, x
if y > z:
    y, z = z, y

print(x, y, z)


4
list1 = ['Google', 'Runoob', 'Taobao', 'Baidu']
list2 = list1.copy()
print ("list2 列表: ", list2)

5
import time
print(time.strftime('%Y-%m-%d %H:%M:%S',time.localtime(time.time())))
time.sleep(1)
print(time.strftime('%Y-%m-%d %H:%M:%S',time.localtime(time.time())))
time.sleep(3)
print(time.strftime('%Y-%m-%d %H:%M:%S',time.localtime(time.time())))

6
for x in range(1,10):
    for y in range(0,10):
        for z in range(0,10):
            s1 = x*100+y*10+z
            s2 = pow(x,3)+pow(y,3)+pow(z,3)
            if s1 == s2:
                print(s1)


7
s = input('input:')
letters = 0
space = 0
digit = 0
others = 0
for c in s:
    if c.isalpha():
        letters += 1
    elif c.isspace():
        space += 1
    elif c.isdigit():
        digit += 1
    else:
        others += 1
print('字母：%d 空格：%d 数字：%d 其他：%d'%(letters,space,digit,others))

8
h = 100
time = 10
height = []
for i in range(2,time+1):
    h /=2
    height.append(h)
print(min(height)/2)
print(sum(height)*2+100)
