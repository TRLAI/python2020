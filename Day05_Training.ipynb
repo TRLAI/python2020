{
 "cells": [
  {
   "cell_type": "code",
   "execution_count": 2,
   "metadata": {},
   "outputs": [
    {
     "name": "stdout",
     "output_type": "stream",
     "text": [
      "123  124  132  134  142  143  \n",
      "213  214  231  234  241  243  \n",
      "312  314  321  324  341  342  \n",
      "412  413  421  423  431  432  \n",
      "共组成三位数24个\n"
     ]
    }
   ],
   "source": [
    "#T01\n",
    "list1 = ['1', '2', '3', '4']\n",
    "count = 0\n",
    "for i in list1:\n",
    "    for j in list1:\n",
    "        for k in list1:\n",
    "            if len(set(i + j + k))==3:\n",
    "                print(\"%s%s%s\" % (i,j,k),end='  ')\n",
    "                count += 1\n",
    "    print('')\n",
    "print('共组成三位数%s个' % count)"
   ]
  },
  {
   "cell_type": "code",
   "execution_count": 6,
   "metadata": {},
   "outputs": [
    {
     "name": "stdout",
     "output_type": "stream",
     "text": [
      "请输入整数x ：10\n",
      "请输入整数y ：6\n",
      "请输入整数z ：33\n",
      "排序后：6  10  33\n"
     ]
    }
   ],
   "source": [
    "#T03\n",
    "x = int(input('请输入整数x ：'))\n",
    "y = int(input('请输入整数y ：'))\n",
    "z = int(input('请输入整数z ：'))\n",
    "list2 = [x, y, z]\n",
    "list2.sort()\n",
    "print('排序后：%s  %s  %s'%(list2[0],list2[1],list2[2]))"
   ]
  },
  {
   "cell_type": "code",
   "execution_count": 12,
   "metadata": {},
   "outputs": [
    {
     "name": "stdout",
     "output_type": "stream",
     "text": [
      "请输入当月利润(单位：万元) ：199\n",
      "应发放奖金4.94万元\n"
     ]
    }
   ],
   "source": [
    "#T02\n",
    "I = float( input(\"请输入当月利润(单位：万元) ：\") )\n",
    "if I <= 10:\n",
    "    J = 0.1 * I\n",
    "elif I <= 20:\n",
    "    J = 0.075 * (I - 10) + 0.1 * 10\n",
    "elif I <= 40:\n",
    "    J = 0.05 * (I - 20) + 0.075 * 10 + 0.1 * 10\n",
    "elif I <= 60:\n",
    "    J = 0.03 * (I - 40) + 0.05 * 20 +  0.075 * 10 + 0.1 * 10\n",
    "elif I <= 100:\n",
    "    J = 0.015 * (I - 60) + 0.03 * 20 + 0.05 * 20 +  0.075 * 10 + 0.1 * 10\n",
    "elif I > 100:\n",
    "    J = 0.01 * (I - 100) + 0.015 * 40 + + 0.03 * 20 + 0.05 * 20 +  0.075 * 10 + 0.1 * 10\n",
    "else:\n",
    "    J = -1\n",
    "    \n",
    "if J >= 0:\n",
    "    print(\"应发放奖金%.2f万元\"% J )\n",
    "else:\n",
    "    print(\"出错，请重试\")"
   ]
  },
  {
   "cell_type": "code",
   "execution_count": 13,
   "metadata": {},
   "outputs": [
    {
     "name": "stdout",
     "output_type": "stream",
     "text": [
      "原始列表： [33, 44, 99, 4, 16]\n",
      "复制得到的列表： [33, 44, 99, 4, 16]\n"
     ]
    }
   ],
   "source": [
    "#T04\n",
    "list1 = [33, 44, 99, 4, 16]\n",
    "list2 = list(list1)\n",
    "print(\"原始列表：\", list1)\n",
    "print(\"复制得到的列表：\", list2)"
   ]
  },
  {
   "cell_type": "code",
   "execution_count": 14,
   "metadata": {},
   "outputs": [
    {
     "name": "stdout",
     "output_type": "stream",
     "text": [
      "2020/11/19  18:15:07\n",
      "2020/11/19  18:15:08\n"
     ]
    }
   ],
   "source": [
    "#T05\n",
    "import time\n",
    "print( time.strftime(\"%Y/%m/%d  %H:%M:%S\", time.localtime()) )\n",
    "time.sleep(1)\n",
    "print( time.strftime(\"%Y/%m/%d  %H:%M:%S\", time.localtime()) )"
   ]
  },
  {
   "cell_type": "code",
   "execution_count": 18,
   "metadata": {},
   "outputs": [
    {
     "name": "stdout",
     "output_type": "stream",
     "text": [
      "水仙花数有：\n",
      "153  370  371  407  "
     ]
    }
   ],
   "source": [
    "#T06\n",
    "print(\"水仙花数有：\")\n",
    "for i in range(100,1000):\n",
    "    m = i % 10\n",
    "    n = int(i / 10) % 10\n",
    "    o = int(i / 100) % 10\n",
    "    if i == (m ** 3 + n ** 3 + o ** 3):\n",
    "        print(\"%d\"% i,end='  ')"
   ]
  },
  {
   "cell_type": "code",
   "execution_count": 19,
   "metadata": {},
   "outputs": [
    {
     "name": "stdout",
     "output_type": "stream",
     "text": [
      "请输入一段字符：ni_lala,../1235\n",
      "这段字符中英文字母、空格、数字和其它字符的个数分别是6,0,4,5\n"
     ]
    }
   ],
   "source": [
    "#T07\n",
    "str = input(\"请输入一段字符：\")\n",
    "\n",
    "letter, space, digital, other = 0, 0, 0, 0\n",
    "for i in str:\n",
    "    if i.isalpha():\n",
    "        letter += 1\n",
    "    elif i.isspace():\n",
    "        space += 1\n",
    "    elif i.isdigit():\n",
    "        digital += 1\n",
    "    else:\n",
    "        other += 1\n",
    "print(\"这段字符中英文字母、空格、数字和其它字符的个数分别是%d,%d,%d,%d\" % (letter,space,digital,other) )    "
   ]
  },
  {
   "cell_type": "code",
   "execution_count": 34,
   "metadata": {},
   "outputs": [
    {
     "name": "stdout",
     "output_type": "stream",
     "text": [
      "初始高度为100米，第十次落地时，共经过299.609375米；第十次反弹高度为0.097656米\n"
     ]
    }
   ],
   "source": [
    "#T08\n",
    "distance = []\n",
    "height = 100\n",
    "for i in range(1, 11):\n",
    "    if i == 1:\n",
    "        distance.append(height)\n",
    "    else:\n",
    "        distance.append(height * 2)\n",
    "    height = height / 2\n",
    "\n",
    "#print(distance)\n",
    "print(\"初始高度为100米，第十次落地时，共经过%f米；第十次反弹高度为%f米\" % (sum(distance),height) )"
   ]
  },
  {
   "cell_type": "code",
   "execution_count": null,
   "metadata": {},
   "outputs": [],
   "source": []
  }
 ],
 "metadata": {
  "kernelspec": {
   "display_name": "Python 3",
   "language": "python",
   "name": "python3"
  },
  "language_info": {
   "codemirror_mode": {
    "name": "ipython",
    "version": 3
   },
   "file_extension": ".py",
   "mimetype": "text/x-python",
   "name": "python",
   "nbconvert_exporter": "python",
   "pygments_lexer": "ipython3",
   "version": "3.8.3"
  }
 },
 "nbformat": 4,
 "nbformat_minor": 4
}
