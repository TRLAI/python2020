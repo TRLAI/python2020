
#T01
a = ['1','2','3','4']
 
b=[]
for i in a:
    print(i)
    for j in [x for x  in a if x!=i]:
        print(j)
        for m in [x for x in a if x!=i and x!=j]:
            print(m)
            b.append(int(i+j+m))
print(b)
print('互不相同且无重复数字的三位数总计 %s 个'%len(b))

#T02
n=int(input("请输入你的当月利润："))
if n<0:
	print("请输入正确的当月利润！")
elif n<10:
	m=n*0.1
elif n<20:
	m=10*0.1+(n-10)*0.075
elif n<40:
	m=10*0.1+10*0.075+(n-20)*0.05
elif n<60:
	m=10*0.1+10*0.075+20*0.05+(n-40)*0.03
elif n<100:
	m=10*0.1+10*0.075+20*0.05+20*0.03+(n-60)*0.015
else:
	m=10*0.1+10*0.075+20*0.05+20*0.03+40*0.015+(n-100)*0.01
 
print("应发放奖金为"+str(m)+"万元！")

#T03
numbers = []
for i in range(4):
    if i > 0:
        x = int(input(f"请输入第{i}个整数："))
        numbers.append(x)
print("由小到大排序完后是：",sorted(numbers))
numbers.sort(reverse=True)
print("由大到小排序完后是：{numbers}")

#T04
a = [1, 2, 3]
b = a[:]
print(b)

#T05
import time
print(time.strftime('%Y-%m-%d %H:%M:%S', time.localtime()))
time.sleep(1)
print(time.strftime('%Y-%m-%d %H:%M:%S', time.localtime()))

#T06
list1=[]
for i in range(100,1000):
  str1=str(i)
  sum1=0
  for j in str1:
    num=int(j)
    sum1+=num**3
  if i==sum1:
    list2.append(i)
print(list1)

#T07
s =input('请输入字符串：')
dic={'letter':0,'integer':0,'space':0,'other':0}
for i in s:
    if i >'a' and i<'z' or i>'A' and i<'Z' :
        dic['letter'] +=1
    elif i in '0123456789':
        dic['integer'] +=1
    elif i ==' ':
        dic['space'] +=1
    else:
        dic['other'] +=1
         
print('统计字符串：',s)
print(dic)
print('------------显示结果2---------------') 
for i in dic:
    print('%s='%i,dic[i])
print('------------显示结果3---------------') 
for key,value in dic.items():
    print('%s='%key,value)
    
#T08
high = 100
n = 10
high_all = 0 #第bain次落du地时走过的长度zhi
high_each = 0 #每次落地的高度
def ball_lands(n):
    global high_all, high_each, high
    #小球dao第一次落地时
    if n == 0:
        high_each = high
        high_all += high_each
        #print('1', high_each, high_all)
        return high_each
    #从小球第n次落地往前推
    high_each = high * (1 / 2) ** n
    print(u'第%d次小球弹起的高度为：%.2f' %(n, high_each))
    high_all += high_each * 2
    #print('2', high_each, high_all)
    ball_lands(n - 1)
 
ball_lands(n)
print(u'小球落地%d次，共经过%.2f米。' % (n,high_all))
