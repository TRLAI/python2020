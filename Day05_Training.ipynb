{
 "cells": [
  {
   "cell_type": "code",
   "execution_count": 104,
   "metadata": {},
   "outputs": [
    {
     "name": "stdout",
     "output_type": "stream",
     "text": [
      "能组成 24 个互不相同且无重复三位数字\n",
      "{132, 134, 142, 143, 412, 413, 421, 423, 431, 432, 312, 314, 321, 324, 213, 342, 341, 214, 231, 234, 241, 243, 123, 124}\n"
     ]
    }
   ],
   "source": [
    "# T01\n",
    "from random import shuffle\n",
    "a = [1,2,3,4]\n",
    "x = set()\n",
    "y = []\n",
    "z = []\n",
    "for i in range(0,4):\n",
    "    b = a[i]\n",
    "    c = a[(i + 1) % 4]\n",
    "    d = a[(i + 2) % 4]\n",
    "    y = [b,c,d]\n",
    "    for j in range(0,3):\n",
    "        o = y[j]\n",
    "        p = y[(j + 1) % 3]\n",
    "        q = y[(j + 2) % 3]\n",
    "        z = [p,q]\n",
    "        for k in range(0,2):\n",
    "            n = z[k]\n",
    "            m = z[(k + 1) % 2]\n",
    "            f = 100 * o + 10 * n + m\n",
    "            x.add(f)\n",
    "    \n",
    "print(\"能组成\",len(x),\"个互不相同且无重复三位数字\")\n",
    "print(x)"
   ]
  },
  {
   "cell_type": "code",
   "execution_count": 10,
   "metadata": {},
   "outputs": [
    {
     "name": "stdout",
     "output_type": "stream",
     "text": [
      "请输入利润（单位：万元）:120\n",
      "发放奖金总数（单位：万元）为： 4.15\n"
     ]
    }
   ],
   "source": [
    "# T02\n",
    "'''参数： \n",
    "       i:利润\n",
    "'''\n",
    "def bonus(i):\n",
    "    bon = 0\n",
    "    if i <= 10:\n",
    "        bon = i * 0.1\n",
    "        return bon\n",
    "    elif (i > 10 and i <= 20):\n",
    "        bon = (i - 10) * 0.075 + bonus(10)\n",
    "        return bon\n",
    "    elif (i > 20 and i <= 40):\n",
    "        bon = (i - 20) * 0.05 + bonus(20)\n",
    "        return bon\n",
    "    elif (i > 40 and i <= 60):\n",
    "        bon = (i - 40) * 0.03 + bonus(40)\n",
    "        return bon\n",
    "    elif (i > 60 and i <= 100):\n",
    "        bon = (i - 60) * 0.015 + bonus(60)\n",
    "        return bon\n",
    "    elif i > 100:\n",
    "        bon = (i - 100) * 0.01 + bonus(100)\n",
    "        return bon\n",
    "\n",
    "I = int(input(\"请输入利润（单位：万元）:\"))\n",
    "b = bonus(I)\n",
    "print(\"发放奖金总数（单位：万元）：\",b)\n"
   ]
  },
  {
   "cell_type": "code",
   "execution_count": 45,
   "metadata": {},
   "outputs": [
    {
     "name": "stdout",
     "output_type": "stream",
     "text": [
      "请输入数字：4\n",
      "请输入数字：2\n",
      "请输入数字：9\n",
      "['2', '4', '9']\n"
     ]
    }
   ],
   "source": [
    "# T03\n",
    "def numsort():\n",
    "    a = []\n",
    "    for i in range(0,3):\n",
    "        num = input(\"请输入数字：\")\n",
    "        a.append(num)\n",
    "    a.sort()\n",
    "    print(a)\n",
    "numsort()"
   ]
  },
  {
   "cell_type": "code",
   "execution_count": 6,
   "metadata": {},
   "outputs": [
    {
     "name": "stdout",
     "output_type": "stream",
     "text": [
      "[1, 2, 3, 4]\n"
     ]
    }
   ],
   "source": [
    "# T04\n",
    "'''参数：\n",
    "        a:需要复制的列表\n",
    "'''\n",
    "def ListCopy(a):\n",
    "    b = a[:]\n",
    "    return b\n",
    "x = [1,2,3,4]\n",
    "y = ListCopy(x)\n",
    "print(y)"
   ]
  },
  {
   "cell_type": "code",
   "execution_count": 53,
   "metadata": {},
   "outputs": [
    {
     "name": "stdout",
     "output_type": "stream",
     "text": [
      "当前时间：Thu Nov 19 21:47:46 2020\n",
      "推迟一秒时间：Thu Nov 19 21:47:47 2020\n"
     ]
    }
   ],
   "source": [
    "# T05\n",
    "import time\n",
    "def output_time():\n",
    "    print(\"当前时间：%s\" % time.ctime())\n",
    "    time.sleep(1)\n",
    "    print(\"推迟一秒时间：%s\" % time.ctime())\n",
    "output_time()"
   ]
  },
  {
   "cell_type": "code",
   "execution_count": 46,
   "metadata": {},
   "outputs": [
    {
     "name": "stdout",
     "output_type": "stream",
     "text": [
      "153\n",
      "370\n",
      "371\n",
      "407\n"
     ]
    }
   ],
   "source": [
    "# T06\n",
    "'''参数：\n",
    "        m:所求水仙花数起始范围\n",
    "        n:所求水仙花数终止范围\n",
    "'''\n",
    "def shuixianhuashu(m,n):\n",
    "    for i in range(m,n):\n",
    "        a = i // 100\n",
    "        b = (i - a * 100) // 10\n",
    "        c = i - a * 100 -b * 10\n",
    "        m = pow(a,3) + pow(b,3) + pow(c,3)\n",
    "        if m == i:\n",
    "            print(i)\n",
    "shuixianhuashu(100,1000)"
   ]
  },
  {
   "cell_type": "code",
   "execution_count": 50,
   "metadata": {},
   "outputs": [
    {
     "name": "stdout",
     "output_type": "stream",
     "text": [
      "请输入字符串87766   v%b^h \n",
      "字符串中字母共 3 个\n",
      "字符串中空格共 4 个\n",
      "字符串中数字共 5 个\n",
      "字符串中其他字符共 2 个\n"
     ]
    }
   ],
   "source": [
    "# T07\n",
    "def stringnum():\n",
    "    a = 0\n",
    "    b = 0\n",
    "    c = 0\n",
    "    d = 0\n",
    "    s = input(\"请输入字符串\")\n",
    "    for i in s:\n",
    "        if ((i >= 'a' and i <= 'z') or (i >= 'A' and i <= 'Z')):\n",
    "            a = a +1\n",
    "        elif (i == ' '):\n",
    "            b = b + 1\n",
    "        elif (i >= '0' and i <= '9'):\n",
    "            c = c + 1\n",
    "        else:\n",
    "            d = d + 1\n",
    "    print(\"字符串中字母共\",a,\"个\")\n",
    "    print(\"字符串中空格共\",b,\"个\")\n",
    "    print(\"字符串中数字共\",c,\"个\")\n",
    "    print(\"字符串中其他字符共\",d,\"个\")\n",
    "stringnum()"
   ]
  },
  {
   "cell_type": "code",
   "execution_count": 41,
   "metadata": {},
   "outputs": [
    {
     "name": "stdout",
     "output_type": "stream",
     "text": [
      "第 1 次落地\n",
      "反弹高度为 100\n",
      "共经过 100 米\n",
      "--------\n",
      "第 2 次落地\n",
      "反弹高度为 50.0\n",
      "共经过 200 米\n",
      "--------\n",
      "第 3 次落地\n",
      "反弹高度为 25.0\n",
      "共经过 250.0 米\n",
      "--------\n",
      "第 4 次落地\n",
      "反弹高度为 12.5\n",
      "共经过 275.0 米\n",
      "--------\n",
      "第 5 次落地\n",
      "反弹高度为 6.25\n",
      "共经过 287.5 米\n",
      "--------\n",
      "第 6 次落地\n",
      "反弹高度为 3.125\n",
      "共经过 293.75 米\n",
      "--------\n",
      "第 7 次落地\n",
      "反弹高度为 1.5625\n",
      "共经过 296.875 米\n",
      "--------\n",
      "第 8 次落地\n",
      "反弹高度为 0.78125\n",
      "共经过 298.4375 米\n",
      "--------\n",
      "第 9 次落地\n",
      "反弹高度为 0.390625\n",
      "共经过 299.21875 米\n",
      "--------\n",
      "第 10 次落地\n",
      "反弹高度为 0.1953125\n",
      "共经过 299.609375 米\n",
      "--------\n"
     ]
    }
   ],
   "source": [
    "# T08\n",
    "'''参数：\n",
    "      hight：初始高度\n",
    "      count：落地次数\n",
    "      meter：共经历米数\n",
    "      i：总落地次数\n",
    "'''\n",
    "def meters(hight,count,meter,i):\n",
    "    if count == 1:\n",
    "        meter = hight\n",
    "        print(\"第\",count,\"次落地\")\n",
    "        print(\"反弹高度为\",hight)\n",
    "        print(\"共经过\",meter,\"米\")\n",
    "        print(\"--------\")\n",
    "        count = count + 1\n",
    "    else:    \n",
    "        meter = meter +  hight\n",
    "        hight = hight / 2\n",
    "        print(\"第\",count,\"次落地\")\n",
    "        print(\"反弹高度为\",hight)\n",
    "        print(\"共经过\",meter,\"米\")\n",
    "        print(\"--------\")\n",
    "        count =count + 1\n",
    "    if count <= i:\n",
    "        meters(hight,count,meter,i)\n",
    "meters(100,1,0,10)"
   ]
  },
  {
   "cell_type": "code",
   "execution_count": null,
   "metadata": {},
   "outputs": [],
   "source": []
  }
 ],
 "metadata": {
  "kernelspec": {
   "display_name": "Python 3",
   "language": "python",
   "name": "python3"
  },
  "language_info": {
   "codemirror_mode": {
    "name": "ipython",
    "version": 3
   },
   "file_extension": ".py",
   "mimetype": "text/x-python",
   "name": "python",
   "nbconvert_exporter": "python",
   "pygments_lexer": "ipython3",
   "version": "3.8.3"
  }
 },
 "nbformat": 4,
 "nbformat_minor": 4
}
