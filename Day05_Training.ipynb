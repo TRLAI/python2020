{
 "cells": [
  {
   "cell_type": "code",
   "execution_count": 1,
   "metadata": {},
   "outputs": [
    {
     "name": "stdout",
     "output_type": "stream",
     "text": [
      "123,124,132,134,142,143,213,214,231,234,241,243,312,314,321,324,341,342,412,413,421,423,431,432,\n",
      "共24种组合\n"
     ]
    }
   ],
   "source": [
    "'''\n",
    "T01\n",
    "有四个数字：1、2、3、4，能组成多少个互不相同且无重复数字的三位数？各是多少？\n",
    "'''\n",
    "\n",
    "counter = 0\n",
    "for i in range(1,5):\n",
    "    for j in range(1, 5):\n",
    "        for k in range(1, 5):\n",
    "            if i != j and j != k and k != i:\n",
    "                print(\"{}{}{}\".format(i,j,k),end=\",\")\n",
    "                counter +=1\n",
    "print(\"\")\n",
    "print(\"共{}种组合\".format(counter))"
   ]
  },
  {
   "cell_type": "code",
   "execution_count": 2,
   "metadata": {},
   "outputs": [
    {
     "name": "stdout",
     "output_type": "stream",
     "text": [
      "请输入利润:(单位为万)\n",
      "50\n",
      "奖金为53.05万元\n"
     ]
    }
   ],
   "source": [
    "'''\n",
    "T02\n",
    "企业发放的奖金根据利润提成。\n",
    "利润(I)低于或等于10万元时，奖金可提10%；\n",
    "利润高于10万元，低于20万元时，低于10万元的部分按10%提成，高于10万元的部分，可提成7.5%；\n",
    "20万到40万之间时，高于20万元的部分，可提成5%；\n",
    "40万到60万之间时高于40万元的部分，可提成3%；\n",
    "60万到100万之间时，高于60万元的部分，可提成1.5%，高于100万元时，超过100万元的部分按1%提成，\n",
    "从键盘输入当月利润I，求应发放奖金总数？\n",
    "'''\n",
    "\n",
    "\n",
    "num=input(\"请输入利润:(单位为万)\\n\")\n",
    "num1=float(num)\n",
    "if num1<=0:\n",
    "    print(\"利润应大于零!\")\n",
    "elif num1<=10:\n",
    "    num2 = num1 * 1.1\n",
    "    print(\"奖金为{}万元\".format(num2))\n",
    "elif num1<=20:\n",
    "    num2 = 10 * 1.1+(num1-10)*1.075\n",
    "    print(\"奖金为{}万元\".format(num2))\n",
    "elif num1<=40:\n",
    "    num2 = 10 * 1.1 + 10 * 1.075+(num1-20)*1.05\n",
    "    print(\"奖金为{}万元\".format(num2))\n",
    "elif num1<=60:\n",
    "    num2 = 10 * 1.1 + 10 * 1.075+ 20 * 1.05+(num1-40)*1.03\n",
    "    print(\"奖金为{}万元\".format(num2))\n",
    "elif num1<=100:\n",
    "    num2 = 10 * 1.1 + 10 * 1.075+ 20 * 1.05 + 20 * 1.03+(num1-60)*1.015\n",
    "    print(\"奖金为{}万元\".format(num2))\n",
    "else:\n",
    "    num2 = 10 * 1.1 + 10 * 1.075+ 20 * 1.05 + 20 * 1.03 + 40 * 1.015+(num1-100)*1.01\n",
    "    print(\"奖金为{}万元\".format(num2))"
   ]
  },
  {
   "cell_type": "code",
   "execution_count": 3,
   "metadata": {},
   "outputs": [
    {
     "name": "stdout",
     "output_type": "stream",
     "text": [
      "请输入第一个整数：2\n",
      "请输入第二个整数：4\n",
      "请输入第三个整数：5\n",
      "2 4 5\n"
     ]
    }
   ],
   "source": [
    "'''输入三个整数x,y,z，请把这三个数由小到大输出'''\n",
    "\n",
    "a = int(input(\"请输入第一个整数：\"))\n",
    "b = int(input(\"请输入第二个整数：\"))\n",
    "c = int(input(\"请输入第三个整数：\"))\n",
    "if a > b > c:\n",
    "    print(c,b,a)\n",
    "elif a > c > b:\n",
    "    print(b,c,a)\n",
    "elif b > a > c:\n",
    "    print(c,a,b)\n",
    "elif b > c > a:\n",
    "    print(a,c,b)\n",
    "elif c > a > b:\n",
    "    print(b,a,c)\n",
    "else:\n",
    "    print(a,b,c)"
   ]
  },
  {
   "cell_type": "code",
   "execution_count": 4,
   "metadata": {},
   "outputs": [
    {
     "name": "stdout",
     "output_type": "stream",
     "text": [
      "[1, 2, 3]\n"
     ]
    }
   ],
   "source": [
    "'''将一个列表的数据复制到另一个列表中'''\n",
    "a = [1,2,3]\n",
    "b = a[:]\n",
    "print(b)"
   ]
  },
  {
   "cell_type": "code",
   "execution_count": 5,
   "metadata": {},
   "outputs": [
    {
     "name": "stdout",
     "output_type": "stream",
     "text": [
      "2020-11-20 08:40:12\n",
      "2020-11-20 08:40:13\n"
     ]
    }
   ],
   "source": [
    "'''暂停一秒输出,并格式化当前时间。使用 time 模块的 sleep() 函数'''\n",
    "\n",
    "import time\n",
    "print(time.strftime(\"%Y-%m-%d %H:%M:%S\",time.localtime()))\n",
    "time.sleep(1)   #暂停一秒\n",
    "print(time.strftime(\"%Y-%m-%d %H:%M:%S\",time.localtime()))"
   ]
  },
  {
   "cell_type": "code",
   "execution_count": 6,
   "metadata": {},
   "outputs": [
    {
     "name": "stdout",
     "output_type": "stream",
     "text": [
      "153\n",
      "370\n",
      "371\n",
      "407\n"
     ]
    }
   ],
   "source": [
    "'''\n",
    "T06\n",
    "打印出所有的\"水仙花数\"，所谓\"水仙花数\"是指一个三位数，其各位数字立方和等于该数本身。\n",
    "例如：153是一个\"水仙花数\"，因为153=1的三次方＋5的三次方＋3的三次方\n",
    "'''\n",
    "\n",
    "for i in range(100,1000):\n",
    "    a = i // 100\n",
    "    b = i % 100 // 10\n",
    "    c = i - a * 100 - b * 10\n",
    "    if a ** 3 + b ** 3 + c **3 == i:\n",
    "        print(i)"
   ]
  },
  {
   "cell_type": "code",
   "execution_count": 7,
   "metadata": {},
   "outputs": [
    {
     "name": "stdout",
     "output_type": "stream",
     "text": [
      "请输入一行字符:hfuieywr874y98yfh\n",
      "英文字母数为12,空格数为0,数字数为5,其他字符数为0\n"
     ]
    }
   ],
   "source": [
    "'''\n",
    "T07\n",
    "输入一行字符，分别统计出其中英文字母、空格、数字和其它字符的个数。\n",
    "'''\n",
    "\n",
    "s = input(\"请输入一行字符:\")\n",
    "letters = 0\n",
    "space = 0\n",
    "digit = 0\n",
    "others = 0\n",
    "for c in s:\n",
    "    if c.isalpha():\n",
    "        letters += 1\n",
    "    elif c.isspace():\n",
    "        space += 1\n",
    "    elif c.isdigit():\n",
    "        digit += 1\n",
    "    else:\n",
    "        others += 1\n",
    "print(\"英文字母数为%d,空格数为%d,数字数为%d,其他字符数为%d\"%(letters,space,digit,others))"
   ]
  },
  {
   "cell_type": "code",
   "execution_count": 8,
   "metadata": {},
   "outputs": [
    {
     "name": "stdout",
     "output_type": "stream",
     "text": [
      "经过的总距离为： 299.609375\n",
      "第十次反弹的高度为： 0.09765625\n"
     ]
    }
   ],
   "source": [
    "'''\n",
    "T08\n",
    "一球从100米高度自由落下，每次落地后反跳回原高度的一半；\n",
    "再落下，求它在第10次落地时，共经过多少米？第10次反弹多高？\n",
    "'''\n",
    "\n",
    "far = []\n",
    "high = 100\n",
    "for i in range(1,11):\n",
    "    if i == 1:\n",
    "        far.append(high)\n",
    "    else:\n",
    "        far.append(high * 2)\n",
    "    high = high / 2\n",
    "\n",
    "print(\"经过的总距离为：\",sum(far))\n",
    "print(\"第十次反弹的高度为：\",high)"
   ]
  },
  {
   "cell_type": "code",
   "execution_count": null,
   "metadata": {},
   "outputs": [],
   "source": []
  }
 ],
 "metadata": {
  "kernelspec": {
   "display_name": "Python 3",
   "language": "python",
   "name": "python3"
  },
  "language_info": {
   "codemirror_mode": {
    "name": "ipython",
    "version": 3
   },
   "file_extension": ".py",
   "mimetype": "text/x-python",
   "name": "python",
   "nbconvert_exporter": "python",
   "pygments_lexer": "ipython3",
   "version": "3.8.3"
  }
 },
 "nbformat": 4,
 "nbformat_minor": 4
}
