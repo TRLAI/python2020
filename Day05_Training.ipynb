'''
1.有四个数字：1、2、3、4，能组成多少个互不相同且无重复数字的三位数？各是多少？
'''

a = ['1', '2', '3', '4']

b = []
for i in a:
    print(i)
    for j in [x for x in a if x != i]:
        print(j)
        for m in [x for x in a if x != i and x != j]:
            print(m)
            b.append(int(i + j + m))
print(b)
print('互不相同且无重复数字的三位数总计 %s 个' % len(b))




'''
2.企业发放的奖金根据利润提成。利润(I)低于或等于10万元时，奖金可提10%；利润高于10万元，低于20万元时，低于10万元的部分按10%提成，高于10万元的部分，可提成7.5%；20万到40万之间时，高于20万元的部分，可提成5%；40万到60万之间时高于40万元的部分，可提成3%；60万到100万之间时，高于60万元的部分，可提成1.5%，高于100万元时，超过100万元的部分按1%提成，从键盘输入当月利润I，求应发放奖金总数？
'''
x=float(input("please enter the profit:"))
if x<=10:
    sum=x*0.1
if x>10 and x<=20:
    sum=10*0.1+(x-10)*0.075
if x>20 and x<=40:
    sum=10*0.1+(20-10)*0.075+(x-20)*0.05
if x>40 and x<=60:
    sum=10*0.1+(20-10)*0.075+(40-20)*0.05+(x-40)*0.03
if x>60 and x<=100:
    sum=10*0.1+(20-10)*0.075+(40-20)*0.05+(60-40)*0.03+(x-60)*0.015
if x>100:
    sum=10*0.1+(20-10)*0.075+(40-20)*0.05+(60-40)*0.03+(100-60)*0.015+(x-100)*0.01
print(sum)



'''
3.输入三个整数x,y,z，请把这三个数由小到大输出
'''
num=[]
for i in range(3):
    number=int(input('请输入第{}个整数：'.format(i+1)))
    num.append(number)
num.sort(reverse=True)
print(num)


'''
4.将一个列表的数据复制到另一个列表中
'''
L = [2, 3, 1, 0, 12, 11, 4, 5]
L1 = []
L1_1 = []
L2 = []
L3 = []
for i in range(0,len(L)):
	L1.append(L[i])
	L1_1 = L[i]
L2 = L
L3 = L.copy()
L.sort()
print(L)
print(L1)
print(L1_1)
print(L2)
print(L3)


'''
5.暂停一秒输出,并格式化当前时间。使用 time 模块的 sleep() 函数。
'''
import time
print(time.strftime('%Y-%m-%d %H:%M:%S', time.localtime()))
time.sleep(1)
print(time.strftime('%Y-%m-%d %H:%M:%S', time.localtime()))


'''
6.打印出所有的"水仙花数"，所谓"水仙花数"是指一个三位数，其各位数字立方和等于该数本身。例如：153是一个"水仙花数"，因为153=1的三次方＋5的三次方＋3的三次方。
'''
for i in range(100,1000):
        ge=i%10
        shi=i//10%10
        bai=i//100
        if ge**3+shi**3+bai**3==i:
                print(i,end=" ")

            
'''
7.输入一行字符，分别统计出其中英文字母、空格、数字和其它字符的个数。
'''
s=input('input a string:\n')
letters=0
space=0
digit=0
others=0
for c in s:
    if c.isalpha():
        letters+=1
    elif c.isspace():
        space+=1
    elif c.isdigit():
        digit+=1
    else:
        others+=1
print('char=%d,space=%d,digit=%d,others=%d'%(letters,space,digit,others))


'''
8.一球从100米高度自由落下，每次落地后反跳回原高度的一半；再落下，求它在第10次落地时，共经过多少米？第10次反弹多高？
'''
times = 10
height_sum = 100
height_list = [100]  # 第一次落下的高度为height_list[0]=100米
for i in range(1, times):
    # 每次下落的高度均为上次高度的一半
    height_list.append(height_list[i-1] / 2)
    height_sum += height_list[i] * 2

print("第10次落地时，共经过 %f 米" % height_sum)
# 第十次反弹的高度即第九次下落的高度一半
print("第10次反弹 %.8f 米" % (height_list[times - 1] / 2))
