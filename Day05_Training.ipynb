{
 "cells": [
  {
   "cell_type": "markdown",
   "metadata": {},
   "source": [
    "T01\n",
    "有四个数字：1、2、3、4，能组成多少个互不相同且无重复数字的三位数？各是多少？"
   ]
  },
  {
   "cell_type": "code",
   "execution_count": 1,
   "metadata": {},
   "outputs": [
    {
     "name": "stdout",
     "output_type": "stream",
     "text": [
      "1 2 3\n",
      "1 2 4\n",
      "1 3 2\n",
      "1 3 4\n",
      "1 4 2\n",
      "1 4 3\n",
      "2 1 3\n",
      "2 1 4\n",
      "2 3 1\n",
      "2 3 4\n",
      "2 4 1\n",
      "2 4 3\n",
      "3 1 2\n",
      "3 1 4\n",
      "3 2 1\n",
      "3 2 4\n",
      "3 4 1\n",
      "3 4 2\n",
      "4 1 2\n",
      "4 1 3\n",
      "4 2 1\n",
      "4 2 3\n",
      "4 3 1\n",
      "4 3 2\n",
      "total: 24\n"
     ]
    }
   ],
   "source": [
    "num = [1,2,3,4]\n",
    "i = 0\n",
    "for a in num:\n",
    "    for b in num:\n",
    "        for c in num:\n",
    "            if (a != b) and (a != c) and (b != c):\n",
    "                i += 1\n",
    "                print(a,b,c)\n",
    "print(\"total:\",i)"
   ]
  },
  {
   "cell_type": "code",
   "execution_count": null,
   "metadata": {},
   "outputs": [],
   "source": []
  },
  {
   "cell_type": "markdown",
   "metadata": {},
   "source": [
    "T02\n",
    "企业发放的奖金根据利润提成。利润(I)低于或等于10万元时，奖金可提10%；利润高于10万元，低于20万元时，低于10万元的部分按10%提成，高于10万元的部分，可提成7.5%；20万到40万之间时，高于20万元的部分，可提成5%；40万到60万之间时高于40万元的部分，可提成3%；60万到100万之间时，高于60万元的部分，可提成1.5%，高于100万元时，超过100万元的部分按1%提成，从键盘输入当月利润I，求应发放奖金总数？"
   ]
  },
  {
   "cell_type": "code",
   "execution_count": 2,
   "metadata": {},
   "outputs": [
    {
     "name": "stdout",
     "output_type": "stream",
     "text": [
      "当月利润为（单位：万元）：20\n",
      "本月应发放奖金总数为1.75万元\n"
     ]
    }
   ],
   "source": [
    "i = float(input(\"当月利润为（单位：万元）：\"))\n",
    "if i < 0:\n",
    "    print(\"输入错误！请重新输入。\")\n",
    "elif i <= 10:\n",
    "    n = i * 0.1\n",
    "elif i < 20:\n",
    "    n = 10*0.1 + (i-10)*0.075\n",
    "elif i < 40:\n",
    "    n = 10*0.1 + 10*0.075 + (i-20)*0.05\n",
    "elif i < 60:\n",
    "    n = 10*0.1 + 10*0.075 + 20*0.05 + (i-40)*0.03\n",
    "elif i < 100:\n",
    "    n = 10*0.1 + 10*0.075 + 20*0.05 + 20*0.03 + (i-60)*0.015\n",
    "else:\n",
    "    n = 10*0.1 + 10*0.075 + 20*0.05 + 20*0.03 + 40*0.015 + (i-100)*0.001\n",
    "print(\"本月应发放奖金总数为\"+str(n)+\"万元\")"
   ]
  },
  {
   "cell_type": "code",
   "execution_count": null,
   "metadata": {},
   "outputs": [],
   "source": []
  },
  {
   "cell_type": "markdown",
   "metadata": {},
   "source": [
    "T03 \n",
    "输入三个整数x,y,z，请把这三个数由小到大输出"
   ]
  },
  {
   "cell_type": "code",
   "execution_count": 25,
   "metadata": {},
   "outputs": [
    {
     "name": "stdout",
     "output_type": "stream",
     "text": [
      "请输入第1个整数:2\n",
      "请输入第2个整数:6\n",
      "请输入第3个整数:1\n",
      "[1, 2, 6]\n"
     ]
    }
   ],
   "source": [
    "num = []\n",
    "for i in range(3):\n",
    "    x = int(input(\"请输入第{}个整数:\".format(i+1)))\n",
    "    num.append(x)\n",
    "num.sort()\n",
    "print(num)"
   ]
  },
  {
   "cell_type": "code",
   "execution_count": null,
   "metadata": {},
   "outputs": [],
   "source": []
  },
  {
   "cell_type": "markdown",
   "metadata": {},
   "source": [
    "T04\n",
    "将一个列表的数据复制到另一个列表中"
   ]
  },
  {
   "cell_type": "code",
   "execution_count": 8,
   "metadata": {},
   "outputs": [
    {
     "name": "stdout",
     "output_type": "stream",
     "text": [
      "[1, 2, 3, 4]\n"
     ]
    }
   ],
   "source": [
    "a = [1,2,3,4]\n",
    "b = a[:]\n",
    "print(b)"
   ]
  },
  {
   "cell_type": "code",
   "execution_count": null,
   "metadata": {},
   "outputs": [],
   "source": []
  },
  {
   "cell_type": "markdown",
   "metadata": {},
   "source": [
    "T05\n",
    "暂停一秒输出,并格式化当前时间。使用 time 模块的 sleep() 函数。"
   ]
  },
  {
   "cell_type": "code",
   "execution_count": 13,
   "metadata": {},
   "outputs": [
    {
     "name": "stdout",
     "output_type": "stream",
     "text": [
      "2020-11-20 17:46:55\n",
      "2020-11-20 17:46:56\n"
     ]
    }
   ],
   "source": [
    "import time\n",
    "print(time.strftime(\"%Y-%m-%d %H:%M:%S\", time.localtime()))\n",
    "time.sleep(1)\n",
    "print(time.strftime(\"%Y-%m-%d %H:%M:%S\", time.localtime()))"
   ]
  },
  {
   "cell_type": "code",
   "execution_count": null,
   "metadata": {},
   "outputs": [],
   "source": []
  },
  {
   "cell_type": "markdown",
   "metadata": {},
   "source": [
    "T06\n",
    "打印出所有的\"水仙花数\"，所谓\"水仙花数\"是指一个三位数，其各位数字立方和等于该数本身。\n",
    "例如：153是一个\"水仙花数\"，因为153=1的三次方＋5的三次方＋3的三次方。"
   ]
  },
  {
   "cell_type": "code",
   "execution_count": 24,
   "metadata": {},
   "outputs": [
    {
     "name": "stdout",
     "output_type": "stream",
     "text": [
      "153\n",
      "370\n",
      "371\n",
      "407\n"
     ]
    }
   ],
   "source": [
    "num = [0,1,2,3,4,5,6,7,8,9]\n",
    "for a in num:\n",
    "    for b in num:\n",
    "        for c in num:\n",
    "            if (a!=0) and (100*a+10*b+c == a*a*a + b*b*b +c*c*c):\n",
    "                print(100*a+10*b+c)"
   ]
  },
  {
   "cell_type": "code",
   "execution_count": null,
   "metadata": {},
   "outputs": [],
   "source": []
  },
  {
   "cell_type": "markdown",
   "metadata": {},
   "source": [
    "T07\n",
    "输入一行字符，分别统计出其中英文字母、空格、数字和其它字符的个数。"
   ]
  },
  {
   "cell_type": "code",
   "execution_count": 27,
   "metadata": {},
   "outputs": [
    {
     "name": "stdout",
     "output_type": "stream",
     "text": [
      "请输入一串字符：hello world! 123\n",
      "letters=10,space=2,digit=3,others=1\n"
     ]
    }
   ],
   "source": [
    "import re\n",
    "s = input(\"请输入一串字符：\")\n",
    "letters = 0\n",
    "space = 0\n",
    "digit = 0\n",
    "others = 0\n",
    "for i in range(len(s)):\n",
    "        if re.match('[a-zA-Z]',s[i]):\n",
    "            letters +=1\n",
    "        elif re.match('\\s',s[i]):\n",
    "            space +=1\n",
    "        elif re.match('\\d',s[i]):\n",
    "            digit +=1\n",
    "        else:\n",
    "            others +=1\n",
    "print('letters=%d,space=%d,digit=%d,others=%d'%(letters,space,digit,others))"
   ]
  },
  {
   "cell_type": "code",
   "execution_count": null,
   "metadata": {},
   "outputs": [],
   "source": []
  },
  {
   "cell_type": "markdown",
   "metadata": {},
   "source": [
    "T08\n",
    "一球从100米高度自由落下，每次落地后反跳回原高度的一半；再落下，求它在第10次落地时，共经过多少米？第10次反弹多高？"
   ]
  },
  {
   "cell_type": "code",
   "execution_count": 30,
   "metadata": {},
   "outputs": [
    {
     "name": "stdout",
     "output_type": "stream",
     "text": [
      "共经过299.609375米\n",
      "第十次反弹 0.097656 米高\n"
     ]
    }
   ],
   "source": [
    "hei=[100]\n",
    "sum=0\n",
    "for i in range(10):\n",
    "    x=hei[i]/2\n",
    "    hei.append(x)\n",
    "for i in hei[0:-1]:\n",
    "    sum+=i*2\n",
    "print(\"共经过%f米\"%(sum-100))\n",
    "print(\"第十次反弹 %f 米高\"%hei[-1])"
   ]
  },
  {
   "cell_type": "code",
   "execution_count": null,
   "metadata": {},
   "outputs": [],
   "source": []
  }
 ],
 "metadata": {
  "kernelspec": {
   "display_name": "Python 3",
   "language": "python",
   "name": "python3"
  },
  "language_info": {
   "codemirror_mode": {
    "name": "ipython",
    "version": 3
   },
   "file_extension": ".py",
   "mimetype": "text/x-python",
   "name": "python",
   "nbconvert_exporter": "python",
   "pygments_lexer": "ipython3",
   "version": "3.8.3"
  }
 },
 "nbformat": 4,
 "nbformat_minor": 4
}
