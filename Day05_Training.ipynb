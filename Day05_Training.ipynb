{
 "cells": [
  {
   "cell_type": "code",
   "execution_count": 1,
   "metadata": {},
   "outputs": [
    {
     "name": "stdout",
     "output_type": "stream",
     "text": [
      "1 2 3\n",
      "1 2 4\n",
      "1 3 2\n",
      "1 3 4\n",
      "1 4 2\n",
      "1 4 3\n",
      "2 1 3\n",
      "2 1 4\n",
      "2 3 1\n",
      "2 3 4\n",
      "2 4 1\n",
      "2 4 3\n",
      "3 1 2\n",
      "3 1 4\n",
      "3 2 1\n",
      "3 2 4\n",
      "3 4 1\n",
      "3 4 2\n",
      "4 1 2\n",
      "4 1 3\n",
      "4 2 1\n",
      "4 2 3\n",
      "4 3 1\n",
      "4 3 2\n"
     ]
    }
   ],
   "source": [
    "a_set = [1,2,3,4]\n",
    "for i in a_set:\n",
    "    for j in a_set:\n",
    "        for k in a_set:\n",
    "            if i != j and i !=k and j !=k:\n",
    "                print(i, j, k, end='')\n",
    "                print()"
   ]
  },
  {
   "cell_type": "code",
   "execution_count": 2,
   "metadata": {},
   "outputs": [
    {
     "name": "stdout",
     "output_type": "stream",
     "text": [
      "请输入当月利润，单位为万元：10\n",
      "1.0 万元\n"
     ]
    }
   ],
   "source": [
    "I = float(input(\"请输入当月利润，单位为万元：\"))\n",
    "if I <= 10:\n",
    "     bns = 10 * 0.1\n",
    "elif 10 < I <= 20:\n",
    "     bns = 10 * 0.1 + (I-10) * 0.075\n",
    "elif 20 < I <= 40:\n",
    "     bns = 10 * 0.1 + 10 * 0.075 + (I-20) * 0.05\n",
    "elif 40 < I <= 60:\n",
    "     bns = 10 * 0.1+ 10 * 0.075 + 20 * 0.05 + (I-40) * 0.03\n",
    "elif 60 < I <= 100:\n",
    "     bns = 10 * 0.1+ 10 * 0.075 + 20 * 0.05 + 20 * 0.03 + (I-60) * 0.015\n",
    "elif I > 100:\n",
    "     bns = 10 * 0.1 + 10 * 0.075 + 20 * 0.05 + 20 * 0.03 + 40 * 0.015 + (I-100) * 0.015\n",
    "print(bns,'万元')"
   ]
  },
  {
   "cell_type": "code",
   "execution_count": 3,
   "metadata": {},
   "outputs": [
    {
     "name": "stdout",
     "output_type": "stream",
     "text": [
      "请输入第一个数: 1\n",
      "请输入第二个数: 2\n",
      "请输入第三个数: 3\n",
      "1 2 3\n"
     ]
    }
   ],
   "source": [
    "x = int(input(\"请输入第一个数: \"))\n",
    "y = int(input(\"请输入第二个数: \"))\n",
    "z = int(input(\"请输入第三个数: \"))\n",
    "\n",
    "if x > y:\n",
    "    x, y = y, x\n",
    "if x > z:\n",
    "    x, z = z, x\n",
    "if y > z:\n",
    "    y, z = z, y\n",
    "\n",
    "print(x, y, z)"
   ]
  },
  {
   "cell_type": "code",
   "execution_count": 4,
   "metadata": {},
   "outputs": [
    {
     "name": "stdout",
     "output_type": "stream",
     "text": [
      "list2 列表:  ['Google', 'Runoob', 'Taobao', 'Baidu']\n"
     ]
    }
   ],
   "source": [
    "list1 = ['Google', 'Runoob', 'Taobao', 'Baidu']\n",
    "list2 = list1.copy()\n",
    "print (\"list2 列表: \", list2)"
   ]
  },
  {
   "cell_type": "code",
   "execution_count": 5,
   "metadata": {},
   "outputs": [
    {
     "name": "stdout",
     "output_type": "stream",
     "text": [
      "2020-11-21 10:16:59\n",
      "2020-11-21 10:17:00\n",
      "2020-11-21 10:17:03\n"
     ]
    }
   ],
   "source": [
    "import time\n",
    "print(time.strftime('%Y-%m-%d %H:%M:%S',time.localtime(time.time())))\n",
    "time.sleep(1)\n",
    "print(time.strftime('%Y-%m-%d %H:%M:%S',time.localtime(time.time())))\n",
    "time.sleep(3)\n",
    "print(time.strftime('%Y-%m-%d %H:%M:%S',time.localtime(time.time())))\n"
   ]
  },
  {
   "cell_type": "code",
   "execution_count": 6,
   "metadata": {},
   "outputs": [
    {
     "name": "stdout",
     "output_type": "stream",
     "text": [
      "153\n",
      "370\n",
      "371\n",
      "407\n"
     ]
    }
   ],
   "source": [
    "for x in range(1,10):\n",
    "    for y in range(0,10):\n",
    "        for z in range(0,10):\n",
    "            s1 = x*100+y*10+z\n",
    "            s2 = pow(x,3)+pow(y,3)+pow(z,3)\n",
    "            if s1 == s2:\n",
    "                print(s1)"
   ]
  },
  {
   "cell_type": "code",
   "execution_count": 7,
   "metadata": {},
   "outputs": [
    {
     "name": "stdout",
     "output_type": "stream",
     "text": [
      "input:aff16q q\n",
      "字母：5 空格：1 数字：2 其他：0\n"
     ]
    }
   ],
   "source": [
    "s = input('input:')\n",
    "letters = 0\n",
    "space = 0\n",
    "digit = 0\n",
    "others = 0\n",
    "for c in s:\n",
    "    if c.isalpha():\n",
    "        letters += 1\n",
    "    elif c.isspace():\n",
    "        space += 1\n",
    "    elif c.isdigit():\n",
    "        digit += 1\n",
    "    else:\n",
    "        others += 1\n",
    "print('字母：%d 空格：%d 数字：%d 其他：%d'%(letters,space,digit,others))\n"
   ]
  },
  {
   "cell_type": "code",
   "execution_count": 8,
   "metadata": {},
   "outputs": [
    {
     "name": "stdout",
     "output_type": "stream",
     "text": [
      "0.09765625\n",
      "299.609375\n"
     ]
    }
   ],
   "source": [
    "h = 100\n",
    "time = 10\n",
    "height = []\n",
    "for i in range(2,time+1):\n",
    "    h /=2\n",
    "    height.append(h)\n",
    "print(min(height)/2)\n",
    "print(sum(height)*2+100)"
   ]
  },
  {
   "cell_type": "code",
   "execution_count": null,
   "metadata": {},
   "outputs": [],
   "source": []
  }
 ],
 "metadata": {
  "kernelspec": {
   "display_name": "Python 3",
   "language": "python",
   "name": "python3"
  },
  "language_info": {
   "codemirror_mode": {
    "name": "ipython",
    "version": 3
   },
   "file_extension": ".py",
   "mimetype": "text/x-python",
   "name": "python",
   "nbconvert_exporter": "python",
   "pygments_lexer": "ipython3",
   "version": "3.8.1"
  }
 },
 "nbformat": 4,
 "nbformat_minor": 4
}
