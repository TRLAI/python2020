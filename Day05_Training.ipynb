{
 "cells": [
  {
   "cell_type": "markdown",
   "metadata": {},
   "source": [
    "# Day05 练习题"
   ]
  },
  {
   "cell_type": "markdown",
   "metadata": {},
   "source": [
    "## T01\n",
    "\n",
    "有四个数字：1、2、3、4，能组成多少个互不相同且无重复数字的三位数？各是多少？"
   ]
  },
  {
   "cell_type": "code",
   "execution_count": 2,
   "metadata": {},
   "outputs": [
    {
     "name": "stdout",
     "output_type": "stream",
     "text": [
      "123 124 132 134 142 143 \n",
      "213 214 231 234 241 243 \n",
      "312 314 321 324 341 342 \n",
      "412 413 421 423 431 432 \n",
      "总共有：24个\n"
     ]
    }
   ],
   "source": [
    "tar = [1,2,3,4]\n",
    "count = 0\n",
    "for i in range(len(tar)):\n",
    "    t1 = tar.copy()\n",
    "    x = str(t1.pop(i))\n",
    "    for j in range(len(t1)):\n",
    "        t2 = t1.copy()\n",
    "        y = str(t2.pop(j))\n",
    "        for k in range(len(t2)):\n",
    "            print(x+y+str(t2[k]),end=' ')\n",
    "            count +=1\n",
    "    print('')\n",
    "print('总共有：%s个' % count)"
   ]
  },
  {
   "cell_type": "markdown",
   "metadata": {},
   "source": [
    "## T02\n",
    "\n",
    "企业发放的奖金根据利润提成。利润(I)低于或等于10万元时，奖金可提10%；利润高于10万元，低于20万元时，低于10万元的部分按10%提成，高于10万元的部分，可提成7.5%；20万到40万之间时，高于20万元的部分，可提成5%；40万到60万之间时高于40万元的部分，可提成3%；60万到100万之间时，高于60万元的部分，可提成1.5%，高于100万元时，超过100万元的部分按1%提成，从键盘输入当月利润I，求应发放奖金总数？"
   ]
  },
  {
   "cell_type": "code",
   "execution_count": 1,
   "metadata": {},
   "outputs": [
    {
     "name": "stdout",
     "output_type": "stream",
     "text": [
      "你的利润为: 123456\n",
      "你应该发放的奖金总额是11759.200000元\n"
     ]
    }
   ],
   "source": [
    "profit = int(input('你的利润为: '))\n",
    "i = [1000000,6000000,400000,200000,100000,0]\n",
    "j = [0.01,0.015,0.03,0.05,0.075,0.1]\n",
    "reward = 0.0\n",
    "for idx in range(6):\n",
    "    if profit > i[idx]:\n",
    "        tmp = (profit - i[idx])*j[idx]\n",
    "        reward += tmp\n",
    "        profit = i[idx]\n",
    "print('你应该发放的奖金总额是%f元'%reward)"
   ]
  },
  {
   "cell_type": "markdown",
   "metadata": {},
   "source": [
    "## T03\n",
    "\n",
    "输入三个整数x,y,z，请把这三个数由小到大输出"
   ]
  },
  {
   "cell_type": "code",
   "execution_count": 2,
   "metadata": {},
   "outputs": [
    {
     "name": "stdout",
     "output_type": "stream",
     "text": [
      "请输入三个整数：\n",
      "21\n",
      "123\n",
      "31\n",
      "[21, 31, 123]\n"
     ]
    }
   ],
   "source": [
    "print(\"请输入三个整数：\")\n",
    "i_list = []\n",
    "for j in range(3):\n",
    "    i_list.append(int(input()))\n",
    "i_list.sort()\n",
    "print(i_list)"
   ]
  },
  {
   "cell_type": "markdown",
   "metadata": {},
   "source": [
    "## T04\n",
    "\n",
    "将一个列表的数据复制到另一个列表中"
   ]
  },
  {
   "cell_type": "code",
   "execution_count": 3,
   "metadata": {},
   "outputs": [
    {
     "name": "stdout",
     "output_type": "stream",
     "text": [
      "[1, 2, 3]\n"
     ]
    }
   ],
   "source": [
    "a = [1,2,3]\n",
    "b = a.copy()\n",
    "print(b)"
   ]
  },
  {
   "cell_type": "markdown",
   "metadata": {},
   "source": [
    "## T05\n",
    "\n",
    "暂停一秒输出,并格式化当前时间。使用 time 模块的 sleep() 函数。"
   ]
  },
  {
   "cell_type": "code",
   "execution_count": 4,
   "metadata": {},
   "outputs": [
    {
     "name": "stdout",
     "output_type": "stream",
     "text": [
      "2020-11-20 17:33:08\n",
      "2020-11-20 17:33:09\n"
     ]
    }
   ],
   "source": [
    "import time\n",
    "print(time.strftime(\"%Y-%m-%d %H:%M:%S\", time.localtime()))\n",
    "time.sleep(1)\n",
    "print(time.strftime(\"%Y-%m-%d %H:%M:%S\", time.localtime()))"
   ]
  },
  {
   "cell_type": "markdown",
   "metadata": {},
   "source": [
    "## T06\n",
    "\n",
    "打印出所有的\"水仙花数\"，所谓\"水仙花数\"是指一个三位数，其各位数字立方和等于该数本身。例如：153是一个\"水仙花数\"，因为153=1的三次方＋5的三次方＋3的三次方。"
   ]
  },
  {
   "cell_type": "code",
   "execution_count": 14,
   "metadata": {},
   "outputs": [
    {
     "name": "stdout",
     "output_type": "stream",
     "text": [
      "153 370 371 407 "
     ]
    }
   ],
   "source": [
    "for i in range(100,1000):\n",
    "    j = i%10\n",
    "    k=i//10%10\n",
    "    l=i//100\n",
    "    if i==j**3+k**3+l**3:\n",
    "        print(i,end=\" \")"
   ]
  },
  {
   "cell_type": "markdown",
   "metadata": {},
   "source": [
    "## T07\n",
    "\n",
    "输入一行字符，分别统计出其中英文字母、空格、数字和其它字符的个数。"
   ]
  },
  {
   "cell_type": "code",
   "execution_count": 6,
   "metadata": {},
   "outputs": [
    {
     "name": "stdout",
     "output_type": "stream",
     "text": [
      "请输入字符串：ajfakjf\n",
      "统计字符串： ajfakjf\n",
      "显示结果:\n",
      "letter= 5\n",
      "integer= 0\n",
      "space= 0\n",
      "other= 2\n"
     ]
    }
   ],
   "source": [
    "s =input('请输入字符串：')\n",
    "dic={'letter':0,'integer':0,'space':0,'other':0}\n",
    "for i in s:\n",
    "    if i >'a' and i<'z' or i>'A' and i<'Z' :\n",
    "        dic['letter'] +=1\n",
    "    elif i in '0123456789':\n",
    "        dic['integer'] +=1\n",
    "    elif i ==' ':\n",
    "        dic['space'] +=1\n",
    "    else:\n",
    "        dic['other'] +=1\n",
    "print('统计字符串：',s)\n",
    "\n",
    "print('显示结果:') \n",
    "for i in dic:\n",
    "    print('%s='%i,dic[i])"
   ]
  },
  {
   "cell_type": "markdown",
   "metadata": {},
   "source": [
    "## T08\n",
    "\n",
    "一球从100米高度自由落下，每次落地后反跳回原高度的一半；再落下，求它在第10次落地时，共经过多少米？第10次反弹多高？"
   ]
  },
  {
   "cell_type": "code",
   "execution_count": 7,
   "metadata": {},
   "outputs": [
    {
     "name": "stdout",
     "output_type": "stream",
     "text": [
      "共经过299.609375米！\n",
      "第十次反弹到0.097656 米！\n"
     ]
    }
   ],
   "source": [
    "a=[100]\n",
    "sum=0\n",
    "for i in range(10):\n",
    "    x=a[i]/2\n",
    "    a.append(x)\n",
    "for i in a[0:-1]:\n",
    "    sum+=i*2\n",
    "print(\"共经过%f米！\"%(sum-100))\n",
    "print(\"第十次反弹到%f 米！\"%a[-1])"
   ]
  }
 ],
 "metadata": {
  "kernelspec": {
   "display_name": "Python 3",
   "language": "python",
   "name": "python3"
  },
  "language_info": {
   "codemirror_mode": {
    "name": "ipython",
    "version": 3
   },
   "file_extension": ".py",
   "mimetype": "text/x-python",
   "name": "python",
   "nbconvert_exporter": "python",
   "pygments_lexer": "ipython3",
   "version": "3.8.3"
  },
  "toc": {
   "base_numbering": 1,
   "nav_menu": {},
   "number_sections": true,
   "sideBar": true,
   "skip_h1_title": false,
   "title_cell": "Table of Contents",
   "title_sidebar": "Contents",
   "toc_cell": false,
   "toc_position": {},
   "toc_section_display": true,
   "toc_window_display": false
  }
 },
 "nbformat": 4,
 "nbformat_minor": 4
}
