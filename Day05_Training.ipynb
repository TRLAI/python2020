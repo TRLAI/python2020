#第一题

a = ['1','2','3','4']

b=[]
for i in a:
    print(i)
    for j in [x for x in a if x!=i]:
        print(j)
        for m in [x for x in a if x!=j and x!=i]:
            print(m)
            b.append(int(i+j+m)
print(b)
print('互不相同且无重复数字的三位数总计 %s 个'%len(b))


#第二题

# -*- coding: utf-8 -*-
"""
Spyder Editor


This is a temporary script file.
"""
num=input("Please input your number:(unit is million)\n")
num2=float(num)
if num2<=0:
    print("Your number is error!")
elif num2<=10:
    print ("You have %f million RMB."%(num2*1.1),end=" ")
elif num2<=20:
     print ("You have %f million RMB."%(11+(num2-10)*1.075),end=" ")
elif num2<=40:
    print ("You have %f million RMB."%(21.75+(num2-20)*1.05),end=" ")
elif num2<=60:
    print ("You have %f million RMB."%(42.75+(num2-40)*1.03),end=" ")
elif num2<=100:
    print ("You have %f million RMB."%(63.35+(num2-60)*1.015),end=" ")
else:
    print ("You have %f million RMB."%(103.95+(num2-100)*1.01),end=" ")



#第三题

print("请输入三个整数：")
a_list = []
for i in range(3):
    a_list.append(int(input()))
a_list.sort()
print(a_list)



#第四题

a = [1,2,3]
b = a[0:3]
c = a[:3]
d = a[0:]
e = a[:]
print(b)
print(c)
print(d)
print(e)




#第五题

import time
print(time.strftime("%Y-%m-%d %H:%M:%S", time.localtime()))
time.sleep(1)
print(time.strftime("%Y-%m-%d %H:%M:%S", time.localtime()))





#第六题

count = 0
for i in range(100, 1000):
    f = i
    a = int(f / 100)
    f -= a*100
    b = int(f / 10)
    c = f - b*10

    if a**3 + b**3 + c**3 == i:
        print(i)
        count += 1
print("共有 %d 个水仙花数" % count)





#第七题

#coding=utf-8
import re
def classify_count(arg):
    eng_letters=re.findall(r'[A-z]',arg)
    chn_letters=re.findall(r'[\u4e00-\u9fa5]',arg)
    table=re.findall(r'\s',arg)
    figure=re.findall(r'\d',arg)
    letters_num=len(eng_letters)+len(chn_letters)
    table_num=len(table)
    figure_num=len(figure)
    other_num=len(arg)-letters_num-table_num-figure_num
    print("字符串中字母个数为：{}，空格个数为：{}，数字个数为：{}，其他字符个数为：{}".format(letters_num,table_num,figure_num,other_num))


if __name__ == '__main__':
    classify_count("郭 东 旭 要 骂 死 邓 宇 @#￥tonight2020.11.19")



#第八题

times = 10
height_sum = 100
height_list = [100]
for i in range(1, times):
    height_list.append(height_list[i-1] / 2)
    height_sum += height_list[i] * 2

print("第10次落地时，共经过 %f 米" % height_sum)
print("第10次反弹 %.8f 米" % (height_list[times - 1] / 2))
