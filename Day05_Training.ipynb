{
 "cells": [
  {
   "cell_type": "code",
   "execution_count": 2,
   "metadata": {},
   "outputs": [
    {
     "name": "stdout",
     "output_type": "stream",
     "text": [
      "36\n",
      "[112, 113, 114, 123, 124, 132, 134, 142, 143, 213, 214, 221, 223, 224, 231, 234, 241, 243, 312, 314, 321, 324, 331, 332, 334, 341, 342, 412, 413, 421, 423, 431, 432, 441, 442, 443]\n"
     ]
    }
   ],
   "source": [
    "n = 0\n",
    "\n",
    "a =[]\n",
    "\n",
    "for i in range(1,5):\n",
    "    \n",
    "   for j in range(1,5):\n",
    "    \n",
    "     for k in range(1,5):\n",
    "            \n",
    "        if i!=k and i!=k and j!=k:\n",
    "            \n",
    "           n+=1\n",
    "        \n",
    "           b = str(i)+str(j)+str(k)\n",
    "            \n",
    "           a.append(int(b))\n",
    "        \n",
    "print(n)\n",
    "\n",
    "print(a)"
   ]
  },
  {
   "cell_type": "code",
   "execution_count": 4,
   "metadata": {},
   "outputs": [
    {
     "name": "stdout",
     "output_type": "stream",
     "text": [
      "lirunshi(wanyuan):20\n",
      "1.75\n"
     ]
    }
   ],
   "source": [
    "l = float(input(\"利润是(万元):\"))\n",
    "\n",
    "if l<=10:\n",
    "    \n",
    " sum = l*0,1\n",
    "\n",
    "elif 10<l<=20:\n",
    "    \n",
    " sum = 10*0.1+(l-10)*0.075\n",
    "\n",
    "elif 20<l<=40:\n",
    "    \n",
    " sum = 10*0.1+10*0.075+(l-20)*0.05\n",
    "\n",
    "elif 40<l<=60:\n",
    "    \n",
    " sum = 10*0.1+10*0.075+20*0.05+(l-40)*0.03\n",
    "\n",
    "elif 60<l<=100:\n",
    "    \n",
    " sum = 10*0.1+10*0.075+20*0.05+20*0.03+(l-60)*0.015\n",
    "\n",
    "elif l>100:\n",
    "    \n",
    " sum =  10*0.1+10*0.075+20*0.05+20*0.03+40*0.015+(l-100)*0.01\n",
    "\n",
    "print(sum)"
   ]
  },
  {
   "cell_type": "code",
   "execution_count": 6,
   "metadata": {},
   "outputs": [
    {
     "name": "stdout",
     "output_type": "stream",
     "text": [
      "请输入整数：1\n",
      "请输入整数：7\n",
      "请输入整数：3\n",
      "[1, 3, 7]\n"
     ]
    }
   ],
   "source": [
    "a = []\n",
    "\n",
    "for i in range(3):\n",
    "    \n",
    "  num = int(input(\"请输入整数：\"))\n",
    "\n",
    "  a.append(num)\n",
    "    \n",
    "a.sort(reverse=False)\n",
    "\n",
    "print(a)\n",
    "    \n",
    "  "
   ]
  },
  {
   "cell_type": "code",
   "execution_count": 10,
   "metadata": {},
   "outputs": [
    {
     "name": "stdout",
     "output_type": "stream",
     "text": [
      "[1, 4, 5, 'list']\n"
     ]
    }
   ],
   "source": [
    "L1 = [1,4,5,\"list\"]\n",
    "\n",
    "L2 = L1.copy()\n",
    "\n",
    "print(L2)"
   ]
  },
  {
   "cell_type": "code",
   "execution_count": 11,
   "metadata": {},
   "outputs": [
    {
     "name": "stdout",
     "output_type": "stream",
     "text": [
      "2020-11-19 16:38:04\n",
      "2020-11-19 16:38:05\n"
     ]
    }
   ],
   "source": [
    "import time\n",
    "\n",
    "print(time.strftime(\"%Y-%m-%d %H:%M:%S\", time.localtime()))\n",
    "\n",
    "time.sleep(1)\n",
    "\n",
    "print(time.strftime(\"%Y-%m-%d %H:%M:%S\", time.localtime()))"
   ]
  },
  {
   "cell_type": "code",
   "execution_count": 12,
   "metadata": {},
   "outputs": [
    {
     "name": "stdout",
     "output_type": "stream",
     "text": [
      "153\n",
      "370\n",
      "371\n",
      "407\n"
     ]
    }
   ],
   "source": [
    "for i in range(100,1000):\n",
    "    \n",
    " j=str(i)\n",
    "\n",
    " if int(j[0])**3+int(j[1])**3+int(j[2])**3==i:\n",
    "        \n",
    "   print(i)"
   ]
  },
  {
   "cell_type": "code",
   "execution_count": 13,
   "metadata": {},
   "outputs": [
    {
     "name": "stdout",
     "output_type": "stream",
     "text": [
      "输入字符串:asdfg+123  a\n",
      "字母6个，数字3个，空格2个，其他字符1个\n"
     ]
    }
   ],
   "source": [
    "s = input(\"输入字符串:\")\n",
    "\n",
    "\n",
    "alphanum = 0\n",
    "\n",
    "numbers = 0\n",
    "\n",
    "spacenum = 0\n",
    "\n",
    "othernum = 0\n",
    "\n",
    "for i in s:\n",
    "    \n",
    "  if i.isalpha():\n",
    "    \n",
    "    alphanum+=1\n",
    "    \n",
    "  elif i.isnumeric():\n",
    "    \n",
    "    numbers+=1\n",
    "    \n",
    "  elif i.isspace():\n",
    "    \n",
    "    spacenum+=1\n",
    "    \n",
    "  else:\n",
    "    \n",
    "    othernum+=1\n",
    "    \n",
    "print(\"字母%d个，数字%d个，空格%d个，其他字符%d个\"%(alphanum,numbers,spacenum,othernum))"
   ]
  },
  {
   "cell_type": "code",
   "execution_count": 14,
   "metadata": {},
   "outputs": [
    {
     "name": "stdout",
     "output_type": "stream",
     "text": [
      "0.09765625\n",
      "299.609375\n"
     ]
    }
   ],
   "source": [
    "h = 100\n",
    "\n",
    "l = 0\n",
    "\n",
    "for i in range(10):\n",
    "    \n",
    "  if i == 0:\n",
    "    \n",
    "    l = l + h\n",
    "    \n",
    "  else:\n",
    "    \n",
    "    l = l + h*2\n",
    "    \n",
    "  h = h / 2\n",
    "\n",
    "print(h)\n",
    "\n",
    "print(l)"
   ]
  },
  {
   "cell_type": "code",
   "execution_count": null,
   "metadata": {},
   "outputs": [],
   "source": []
  }
 ],
 "metadata": {
  "kernelspec": {
   "display_name": "Python 3",
   "language": "python",
   "name": "python3"
  },
  "language_info": {
   "codemirror_mode": {
    "name": "ipython",
    "version": 3
   },
   "file_extension": ".py",
   "mimetype": "text/x-python",
   "name": "python",
   "nbconvert_exporter": "python",
   "pygments_lexer": "ipython3",
   "version": "3.8.3"
  }
 },
 "nbformat": 4,
 "nbformat_minor": 4
}
