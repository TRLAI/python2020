{
 "cells": [
  {
   "cell_type": "markdown",
   "metadata": {},
   "source": [
    "# Day05 练习题"
   ]
  },
  {
   "cell_type": "markdown",
   "metadata": {},
   "source": [
    "## T01\n",
    "\n",
    "有四个数字：1、2、3、4，能组成多少个互不相同且无重复数字的三位数？各是多少？"
   ]
  },
  {
   "cell_type": "code",
   "execution_count": null,
   "metadata": {},
   "outputs": [],
   "source": [
    "a = ['1','2','3','4']\n",
    "\n",
    "b=[]\n",
    "\n",
    "for i in a:\n",
    "    print(i)\n",
    "    for j in[x for x in a if x!=i]:\n",
    "        print (j)\n",
    "        for m in [x for x in a if x!=i and x!=j]:\n",
    "            print(m)\n",
    "            b.append(int(i+j+m))\n",
    "print(b)\n",
    "print('互不相同且无重复数字的三位数总计 %s 个'%len(b))\n"
   ]
  },
  {
   "cell_type": "markdown",
   "metadata": {},
   "source": [
    "## T02\n",
    "\n",
    "企业发放的奖金根据利润提成。利润(I)低于或等于10万元时，奖金可提10%；利润高于10万元，低于20万元时，低于10万元的部分按10%提成，高于10万元的部分，可提成7.5%；20万到40万之间时，高于20万元的部分，可提成5%；40万到60万之间时高于40万元的部分，可提成3%；60万到100万之间时，高于60万元的部分，可提成1.5%，高于100万元时，超过100万元的部分按1%提成，从键盘输入当月利润I，求应发放奖金总数？"
   ]
  },
  {
   "cell_type": "code",
   "execution_count": null,
   "metadata": {},
   "outputs": [],
   "source": [
    "n=int(input(\"请输入你的当月利润：\"))\n",
    "if n<0:\n",
    "    print(\"请输入正确的当月利润！\")\n",
    "elif n<10:\n",
    "    m=n*0.1\n",
    "elif n<20:\n",
    "    m=10*0.1+(n-10)*0.075\n",
    "elif n<40:\n",
    "    m=10*0.1+10*0.075+(n-20)*0.05\n",
    "elif n<60:\n",
    "    m = 10 * 0.1 + 10 * 0.075+20*0.05+(n-40)*0.03\n",
    "elif n<100:\n",
    "    m = 10 * 0.1 + 10 * 0.075 + 20 * 0.05+20*0.03+(n-60)*0.015\n",
    "else:\n",
    "    m = 10 * 0.1 + 10 * 0.075 + 20 * 0.05 + 20 * 0.03 + (n - 60) * 0.015+(n-100)*0.01\n",
    "\n",
    "print(\"应发放奖金为\"+str(m)+\"万元！\")"
   ]
  },
  {
   "cell_type": "markdown",
   "metadata": {},
   "source": [
    "## T03\n",
    "\n",
    "输入三个整数x,y,z，请把这三个数由小到大输出"
   ]
  },
  {
   "cell_type": "code",
   "execution_count": null,
   "metadata": {},
   "outputs": [],
   "source": [
    "print(\"请输入三个整数：\")\n",
    "a_list = []\n",
    "for i in range(3):\n",
    "    a_list.append(int(input()))\n",
    "a_list.sort()\n",
    "print(a_list)"
   ]
  },
  {
   "cell_type": "markdown",
   "metadata": {},
   "source": [
    "## T04\n",
    "\n",
    "将一个列表的数据复制到另一个列表中"
   ]
  },
  {
   "cell_type": "code",
   "execution_count": null,
   "metadata": {},
   "outputs": [],
   "source": [
    "a=[1,2,3]\n",
    "b=a[0:3]\n",
    "c=a[:3]\n",
    "d=a[0:]\n",
    "e=a[:]\n",
    "print(b)\n",
    "print(c)\n",
    "print(d)\n",
    "print(e)"
   ]
  },
  {
   "cell_type": "markdown",
   "metadata": {},
   "source": [
    "## T05\n",
    "\n",
    "暂停一秒输出,并格式化当前时间。使用 time 模块的 sleep() 函数。"
   ]
  },
  {
   "cell_type": "code",
   "execution_count": null,
   "metadata": {},
   "outputs": [],
   "source": [
    "import time\n",
    "print(time.strftime(\"%Y-%m-%d %H:%M:%S\",time.localtime()))\n",
    "time.sleep(1)\n",
    "print(time.strftime(\"%Y-%m-%d %H:%M:%S\",time.localtime()))\n"
   ]
  },
  {
   "cell_type": "markdown",
   "metadata": {},
   "source": [
    "## T06\n",
    "\n",
    "打印出所有的\"水仙花数\"，所谓\"水仙花数\"是指一个三位数，其各位数字立方和等于该数本身。例如：153是一个\"水仙花数\"，因为153=1的三次方＋5的三次方＋3的三次方。"
   ]
  },
  {
   "cell_type": "code",
   "execution_count": null,
   "metadata": {},
   "outputs": [],
   "source": [
    "count =0\n",
    "for i in range(100,1000):\n",
    "    f=i\n",
    "    a=int(f/100)\n",
    "    f-=a*100\n",
    "    b=int(f/10)\n",
    "    c=f-b*10\n",
    "    if a**3+b**3+c**3==i:\n",
    "        print(i)\n",
    "        count +=1\n",
    "print(\"共有%d个水仙花数\"%count)"
   ]
  },
  {
   "cell_type": "markdown",
   "metadata": {},
   "source": [
    "## T07\n",
    "\n",
    "输入一行字符，分别统计出其中英文字母、空格、数字和其它字符的个数。"
   ]
  },
  {
   "cell_type": "code",
   "execution_count": null,
   "metadata": {},
   "outputs": [],
   "source": [
    "#coding=utf-8\n",
    "def classify_count2(arg):\n",
    "    letters_num,table_num,figure_num,other_num=0,0,0,0\n",
    "    for i in arg:\n",
    "        if i.isalpha():\n",
    "            letters_num+=1\n",
    "        elif i.isdigit():\n",
    "            figure_num+=1\n",
    "        elif i.isspace():\n",
    "            table_num+=1\n",
    "        else:\n",
    "            other_num+=1\n",
    "    print(f\"字符串中字母个数为：{letters_num}，空格个数为：{table_num}，数字个数为：{figure_num}，其他字符个数为：{other_num}\")\n",
    "\n",
    "\n",
    "    if __name__=='__main__':\n",
    "        classify_count2(\"A中 国ui n23 oj人ibs @Kf$fr*\")\n"
   ]
  },
  {
   "cell_type": "markdown",
   "metadata": {},
   "source": [
    "## T08\n",
    "\n",
    "一球从100米高度自由落下，每次落地后反跳回原高度的一半；再落下，求它在第10次落地时，共经过多少米？第10次反弹多高？"
   ]
  },
  {
   "cell_type": "code",
   "execution_count": null,
   "metadata": {},
   "outputs": [],
   "source": [
    "times=10\n",
    "height_sum=100\n",
    "height_list=[100]\n",
    "for i in range(1,times):\n",
    "    height_list.append(height_list[i-1]/2)\n",
    "    height_sum +=height_list[i]*2\n",
    "print(\"第10次落地时，共经过%f米\" % height_sum)\n",
    "print(\"第10次反弹时%.8f 米\" % (height_list[times-1]/2))\n"
   ]
  }
 ],
 "metadata": {
  "kernelspec": {
   "display_name": "Python 3",
   "language": "python",
   "name": "python3"
  },
  "language_info": {
   "codemirror_mode": {
    "name": "ipython",
    "version": 3
   },
   "file_extension": ".py",
   "mimetype": "text/x-python",
   "name": "python",
   "nbconvert_exporter": "python",
   "pygments_lexer": "ipython3",
   "version": "3.8.3"
  },
  "toc": {
   "base_numbering": 1,
   "nav_menu": {},
   "number_sections": true,
   "sideBar": true,
   "skip_h1_title": false,
   "title_cell": "Table of Contents",
   "title_sidebar": "Contents",
   "toc_cell": false,
   "toc_position": {},
   "toc_section_display": true,
   "toc_window_display": false
  }
 },
 "nbformat": 4,
 "nbformat_minor": 4
}
