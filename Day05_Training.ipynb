{
 "cells": [
  {
   "cell_type": "markdown",
   "metadata": {},
   "source": [
    "# Day05 练习题"
   ]
  },
  {
   "cell_type": "markdown",
   "metadata": {},
   "source": [
    "## T01\n",
    "\n",
    "有四个数字：1、2、3、4，能组成多少个互不相同且无重复数字的三位数？各是多少？"
   ]
  },
  {
   "cell_type": "code",
   "execution_count": 55,
   "metadata": {},
   "outputs": [
    {
     "name": "stdout",
     "output_type": "stream",
     "text": [
      "[123, 124, 132, 134, 142, 143, 213, 214, 231, 234, 241, 243, 312, 314, 321, 324, 341, 342, 412, 413, 421, 423, 431, 432]\n",
      "互不相同且无重复数字的三位数总计 24 个\n"
     ]
    }
   ],
   "source": [
    "for i in range(1,5):",
    "for j in range(1,5):",
        "for k in range(1,5):",
            "if( i != k ) and (i != j) and (j != k):",
                "print i,j,k"
   ]
  },
  {
   "cell_type": "markdown",
   "metadata": {},
   "source": [
    "## T02\n",
    "\n",
    "企业发放的奖金根据利润提成。利润(I)低于或等于10万元时，奖金可提10%；利润高于10万元，低于20万元时，低于10万元的部分按10%提成，高于10万元的部分，可提成7.5%；20万到40万之间时，高于20万元的部分，可提成5%；40万到60万之间时高于40万元的部分，可提成3%；60万到100万之间时，高于60万元的部分，可提成1.5%，高于100万元时，超过100万元的部分按1%提成，从键盘输入当月利润I，求应发放奖金总数？"
   ]
  },
  {
   "cell_type": "code",
   "execution_count": 57,
   "metadata": {},
   "outputs": [
    {
     "name": "stdout",
     "output_type": "stream",
     "text": [
      "利润为: 123356\n",
      "1751.7\n",
      "10000.0\n",
      "应该发放的奖金总额是11751.700000万元\n"
     ]
    }
   ],
   "source": [
    "profit = int(input('净利润: '))\n",
    "arr = [1000000,6000000,400000,200000,100000,0]\n",
    "rat = [0.01,0.015,0.03,0.05,0.075,0.1]\n",
    "r = 0",
    "for idx in range(0,6):",
    "    if i>arr[idx]:",
    "        r+=(i-arr[idx])*rat[idx]",
    "        print (i-arr[idx])*rat[idx]",
    "        i=arr[idx]",
    "print r"
   ]
  },
  {
   "cell_type": "markdown",
   "metadata": {},
   "source": [
    "## T03\n",
    "\n",
    "输入三个整数x,y,z，请把这三个数由小到大输出"
   ]
  },
  {
   "cell_type": "code",
   "execution_count": 58,
   "metadata": {},
   "outputs": [
    {
     "name": "stdout",
     "output_type": "stream",
     "text": [
      "请输入三个整数：\n",
      "12 \n",
      "123\n",
      "123\n",
      "[12, 123, 123]\n"
     ]
    }
   ],
   "source": [
    "print(\"请输入三个整数：\")\n",
    "a_list = []\n",
    "for i in range(3):\n",
    "    a_list.append(int(input()))\n",
    "a_list.sort()\n",
    "print(a_list)"
   ]
  },
  {
   "cell_type": "markdown",
   "metadata": {},
   "source": [
    "## T04\n",
    "\n",
    "将一个列表的数据复制到另一个列表中"
   ]
  },
  {
   "cell_type": "code",
   "execution_count": 59,
   "metadata": {},
   "outputs": [
    {
     "name": "stdout",
     "output_type": "stream",
     "text": [
      "[1, 2, 3]\n",
      "[1, 2, 3]\n"
     ]
    }
   ],
   "source": [
    "li1 = [1,2,3,4,5]\n",
    "li2 = li1[:]"
   ]
  },
  {
   "cell_type": "markdown",
   "metadata": {},
   "source": [
    "## T05\n",
    "\n",
    "暂停一秒输出,并格式化当前时间。使用 time 模块的 sleep() 函数。"
   ]
  },
  {
   "cell_type": "code",
   "execution_count": 60,
   "metadata": {},
   "outputs": [
    {
     "name": "stdout",
     "output_type": "stream",
     "text": [
      "2020-11-19 17:36:27\n",
      "2020-11-19 17:36:28\n"
     ]
    }
   ],
   "source": [
    "import time\n",
    "print(time.strftime(\"%Y-%m-%d %H:%M:%S\", time.localtime()))\n",
    "time.sleep(1)\n",
    "print(time.strftime(\"%Y-%m-%d %H:%M:%S\", time.localtime()))"
   ]
  },
  {
   "cell_type": "markdown",
   "metadata": {},
   "source": [
    "## T06\n",
    "\n",
    "打印出所有的\"水仙花数\"，所谓\"水仙花数\"是指一个三位数，其各位数字立方和等于该数本身。例如：153是一个\"水仙花数\"，因为153=1的三次方＋5的三次方＋3的三次方。"
   ]
  },
  {
   "cell_type": "code",
   "execution_count": 61,
   "metadata": {},
   "outputs": [
    {
     "name": "stdout",
     "output_type": "stream",
     "text": [
      "153 370 371 407 "
     ]
    }
   ],
   "source": [
    "for n in range(100,1000):",
 "   i = n // 100",
  "  j = n // 10 % 10",
   " k = n % 10",
    "if n == i*i*i + j*j*j + k*k*k:", 
     "   print(n)"
   ]
  },
  {
   "cell_type": "markdown",
   "metadata": {},
   "source": [
    "## T07\n",
    "\n",
    "输入一行字符，分别统计出其中英文字母、空格、数字和其它字符的个数。"
   ]
  },
  {
   "cell_type": "code",
   "execution_count": 62,
   "metadata": {},
   "outputs": [
    {
     "name": "stdout",
     "output_type": "stream",
     "text": [
      "请输入字符串：dajkd  daw d awd\n",
      "统计字符串： dajkd  daw d awd\n",
      "------------显示结果---------------\n",
      "letter= 9\n",
      "integer= 0\n",
      "space= 4\n",
      "other= 3\n"
     ]
    }
   ],
   "source": [
    "import string",
"s = raw_input('请输入一个字符串:\n')",
"letters = 0",
"space = 0",
"digit = 0",
"others = 0",
"i=0",
"while i < len(s):",
 "   c = s[i]",
  "  i += 1",
   " if c.isalpha():",
    "    letters += 1",
    "elif c.isspace():",
    "    space += 1",
    "elif c.isdigit():",
     "   digit += 1",
    "else:",
     "   others += 1",
"print 'char = %d,space = %d,digit = %d,others = %d' % (letters,space,digit,others)"
   ]
  },
  {
   "cell_type": "markdown",
   "metadata": {},
   "source": [
    "## T08\n",
    "\n",
    "一球从100米高度自由落下，每次落地后反跳回原高度的一半；再落下，求它在第10次落地时，共经过多少米？第10次反弹多高？"
   ]
  },
  {
   "cell_type": "code",
   "execution_count": 63,
   "metadata": {},
   "outputs": [
    {
     "name": "stdout",
     "output_type": "stream",
     "text": [
      "共经过299.609375米\n",
      "第十次反弹到0.097656 米\n"
     ]
    }
   ],
   "source": [
    "a=[100]\n",
    "sum=0\n",
    "for i in range(10):\n",
    "    x=a[i]/2\n",
    "    a.append(x)\n",
    "for i in a[0:-1]:\n",
    "    sum+=i*2\n",
    "print(\"共经过%f米\"%(sum-100))\n",
    "print(\"第十次反弹到%f 米\"%a[-1])\n",
    "  "
   ]
  }
 ],
 "metadata": {
  "kernelspec": {
   "display_name": "Python 3",
   "language": "python",
   "name": "python3"
  },
  "language_info": {
   "codemirror_mode": {
    "name": "ipython",
    "version": 3
   },
   "file_extension": ".py",
   "mimetype": "text/x-python",
   "name": "python",
   "nbconvert_exporter": "python",
   "pygments_lexer": "ipython3",
   "version": "3.8.3"
  },
  "toc": {
   "base_numbering": 1,
   "nav_menu": {},
   "number_sections": true,
   "sideBar": true,
   "skip_h1_title": false,
   "title_cell": "Table of Contents",
   "title_sidebar": "Contents",
   "toc_cell": false,
   "toc_position": {},
   "toc_section_display": true,
   "toc_window_display": false
  }
 },
 "nbformat": 4,
 "nbformat_minor": 4
}
