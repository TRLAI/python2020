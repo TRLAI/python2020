{
 "cells": [
  {
   "cell_type": "code",
   "execution_count": 2,
   "metadata": {},
   "outputs": [
    {
     "name": "stdout",
     "output_type": "stream",
     "text": [
      "1\n",
      "2\n",
      "3\n",
      "4\n",
      "3\n",
      "2\n",
      "4\n",
      "4\n",
      "2\n",
      "3\n",
      "2\n",
      "1\n",
      "3\n",
      "4\n",
      "3\n",
      "1\n",
      "4\n",
      "4\n",
      "1\n",
      "3\n",
      "3\n",
      "1\n",
      "2\n",
      "4\n",
      "2\n",
      "1\n",
      "4\n",
      "4\n",
      "1\n",
      "2\n",
      "4\n",
      "1\n",
      "2\n",
      "3\n",
      "2\n",
      "1\n",
      "3\n",
      "3\n",
      "1\n",
      "2\n",
      "[123, 124, 132, 134, 142, 143, 213, 214, 231, 234, 241, 243, 312, 314, 321, 324, 341, 342, 412, 413, 421, 423, 431, 432]\n",
      "互不相同且无重复数字的三位数总计 24 个\n"
     ]
    }
   ],
   "source": [
    "a = ['1','2','3','4']\n",
    "\n",
    "b=[]\n",
    "for i in a:\n",
    "    print(i)\n",
    "    for j in [x for x in a if x!=i]:\n",
    "        print(j)\n",
    "        for m in [x for x in a if x!=j and x!=i]:\n",
    "            print(m)\n",
    "            b.append(int(i+j+m))\n",
    "print(b)\n",
    "print('互不相同且无重复数字的三位数总计 %s 个'%len(b))"
   ]
  },
  {
   "cell_type": "code",
   "execution_count": 3,
   "metadata": {},
   "outputs": [
    {
     "name": "stdout",
     "output_type": "stream",
     "text": [
      "Please input your number:(unit is million)\n",
      "1\n",
      "You have 1.100000 million RMB. "
     ]
    }
   ],
   "source": [
    "num=input(\"Please input your number:(unit is million)\\n\")\n",
    "num2=float(num)\n",
    "if num2<=0:\n",
    "    print(\"Your number is error!\")\n",
    "elif num2<=10:\n",
    "    print (\"You have %f million RMB.\"%(num2*1.1),end=\" \")\n",
    "elif num2<=20:\n",
    "     print (\"You have %f million RMB.\"%(11+(num2-10)*1.075),end=\" \")\n",
    "elif num2<=40:\n",
    "    print (\"You have %f million RMB.\"%(21.75+(num2-20)*1.05),end=\" \")\n",
    "elif num2<=60:\n",
    "    print (\"You have %f million RMB.\"%(42.75+(num2-40)*1.03),end=\" \")\n",
    "elif num2<=100:\n",
    "    print (\"You have %f million RMB.\"%(63.35+(num2-60)*1.015),end=\" \")\n",
    "else:\n",
    "    print (\"You have %f million RMB.\"%(103.95+(num2-100)*1.01),end=\" \")"
   ]
  },
  {
   "cell_type": "code",
   "execution_count": 4,
   "metadata": {},
   "outputs": [
    {
     "name": "stdout",
     "output_type": "stream",
     "text": [
      "请输入三个整数（用回车隔开）：\n",
      "1\n",
      "2\n",
      "3\n",
      "[1, 2, 3]\n"
     ]
    }
   ],
   "source": [
    "print(\"请输入三个整数（用回车隔开）：\")\n",
    "a_list = []\n",
    "for i in range(3):\n",
    "    a_list.append(int(input()))\n",
    "a_list.sort()\n",
    "print(a_list)"
   ]
  },
  {
   "cell_type": "code",
   "execution_count": 5,
   "metadata": {},
   "outputs": [
    {
     "name": "stdout",
     "output_type": "stream",
     "text": [
      "[1, 2, 3]\n"
     ]
    }
   ],
   "source": [
    "a=[1,2,3]\n",
    "b=[]\n",
    "for i in range(3):\n",
    "    b.append(a[i])\n",
    "print(b)"
   ]
  },
  {
   "cell_type": "code",
   "execution_count": 6,
   "metadata": {},
   "outputs": [
    {
     "name": "stdout",
     "output_type": "stream",
     "text": [
      "2020-11-20 17:36:18\n",
      "2020-11-20 17:36:19\n"
     ]
    }
   ],
   "source": [
    "import time #引用time模块\n",
    "print(time.strftime(\"%Y-%m-%d %H:%M:%S\", time.localtime()))\n",
    "#利用time。strftime（）把一个代表时间的元组转化为格式化时间的字符串\n",
    "time.sleep(1) #暂停一秒\n",
    "print(time.strftime(\"%Y-%m-%d %H:%M:%S\", time.localtime()))"
   ]
  },
  {
   "cell_type": "code",
   "execution_count": 7,
   "metadata": {},
   "outputs": [
    {
     "name": "stdout",
     "output_type": "stream",
     "text": [
      "153\n",
      "370\n",
      "371\n",
      "407\n",
      "共有 4 个水仙花数\n"
     ]
    }
   ],
   "source": [
    "count = 0\n",
    "for i in range(100, 1000):\n",
    "    f = i\n",
    "    #a为百位数\n",
    "    a = int(f / 100)\n",
    "    #b为十位数\n",
    "    f -= a*100\n",
    "    b = int(f / 10)\n",
    "    #c为个位数\n",
    "    c = f - b*10\n",
    "\n",
    "    if a**3 + b**3 + c**3 == i:\n",
    "        print(i)\n",
    "        count += 1\n",
    "print(\"共有 %d 个水仙花数\" % count)"
   ]
  },
  {
   "cell_type": "code",
   "execution_count": 8,
   "metadata": {},
   "outputs": [
    {
     "name": "stdout",
     "output_type": "stream",
     "text": [
      "字符串中字母个数为：12，空格个数为：1，数字个数为：8，其他字符个数为：3\n"
     ]
    }
   ],
   "source": [
    "#coding=utf-8\n",
    "import re\n",
    "def classify_count(arg):\n",
    "    eng_letters=re.findall(r'[A-z]',arg)\n",
    "    chn_letters=re.findall(r'[\\u4e00-\\u9fa5]',arg)\n",
    "    table=re.findall(r'\\s',arg)\n",
    "    figure=re.findall(r'\\d',arg)\n",
    "    letters_num=len(eng_letters)+len(chn_letters)\n",
    "    table_num=len(table)\n",
    "    figure_num=len(figure)\n",
    "    other_num=len(arg)-letters_num-table_num-figure_num\n",
    "    print(\"字符串中字母个数为：{}，空格个数为：{}，数字个数为：{}，其他字符个数为：{}\".format(letters_num,table_num,figure_num,other_num))\n",
    "\n",
    "\n",
    "if __name__ == '__main__':\n",
    "    classify_count(\"变瘦变瘦变瘦吧 @today2020.11.20\")"
   ]
  },
  {
   "cell_type": "code",
   "execution_count": 9,
   "metadata": {},
   "outputs": [
    {
     "name": "stdout",
     "output_type": "stream",
     "text": [
      "第10次落地时，共经过 299.609375 米\n",
      "第10次反弹 0.09765625 米\n"
     ]
    }
   ],
   "source": [
    "times = 10\n",
    "height_sum = 100\n",
    "height_list = [100]\n",
    "for i in range(1, times):\n",
    "    height_list.append(height_list[i-1] / 2)\n",
    "    height_sum += height_list[i] * 2\n",
    "\n",
    "print(\"第10次落地时，共经过 %f 米\" % height_sum)\n",
    "print(\"第10次反弹 %.8f 米\" % (height_list[times - 1] / 2))"
   ]
  },
  {
   "cell_type": "code",
   "execution_count": null,
   "metadata": {},
   "outputs": [],
   "source": []
  }
 ],
 "metadata": {
  "kernelspec": {
   "display_name": "Python 3",
   "language": "python",
   "name": "python3"
  },
  "language_info": {
   "codemirror_mode": {
    "name": "ipython",
    "version": 3
   },
   "file_extension": ".py",
   "mimetype": "text/x-python",
   "name": "python",
   "nbconvert_exporter": "python",
   "pygments_lexer": "ipython3",
   "version": "3.8.3"
  }
 },
 "nbformat": 4,
 "nbformat_minor": 4
}
