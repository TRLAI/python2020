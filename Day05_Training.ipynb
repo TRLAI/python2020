{
 "cells": [
  {
   "cell_type": "markdown",
   "metadata": {},
   "source": [
    "#Day05 练习题"
   ]
  },
  {
   "cell_type": "markdown",
   "metadata": {},
   "source": [
    "##T01\n",
    "有四个数字：1、2、3、4，能组成多少个互不相同且无重复数字的三位数？各是多少？"
   ]
  },
  {
   "cell_type": "code",
   "execution_count": 12,
   "metadata": {},
   "outputs": [
    {
     "name": "stdout",
     "output_type": "stream",
     "text": [
      "123 124 132 134 142 143 \n",
      "213 214 231 234 241 243 \n",
      "312 314 321 324 341 342 \n",
      "412 413 421 423 431 432 \n",
      "最终结果为：24个\n"
     ]
    }
   ],
   "source": [
    "list = [1,2,3,4]\n",
    "count = 0\n",
    "for i in range(len(list)):\n",
    "    t1 = list.copy()\n",
    "    x = str(t1.pop(i))\n",
    "    for j in range(len(t1)):\n",
    "        t2 = t1.copy()\n",
    "        y = str(t2.pop(j))\n",
    "        for k in range(len(t2)):\n",
    "            print(x + y + str(t2[k]),end=' ')\n",
    "            count += 1\n",
    "    print('')\n",
    "print('最终结果为：%s个' % count)\n"
   ]
  },
  {
   "cell_type": "markdown",
   "metadata": {},
   "source": [
    "##t02\n",
    "企业发放的奖金根据利润提成。利润(I)低于或等于10万元时，奖金可提10%；利润高于10万元，低于20万元时，低于10万元的部分按10%提成，高于10万元的部分，可提成7.5%；20万到40万之间时，高于20万元的部分，可提成5%；40万到60万之间时高于40万元的部分，可提成3%；60万到100万之间时，高于60万元的部分，可提成1.5%，高于100万元时，超过100万元的部分按1%提成，从键盘输入当月利润I，求应发放奖金总数？"
   ]
  },
  {
   "cell_type": "code",
   "execution_count": 31,
   "metadata": {},
   "outputs": [
    {
     "name": "stdout",
     "output_type": "stream",
     "text": [
      "请输入当月利润990000\n",
      "应当发放奖金： 39350.0\n"
     ]
    }
   ],
   "source": [
    "i = float(input(\"请输入当月利润\")) \n",
    "if i <= 0:\n",
    "    print(\"您输入的值是错误的\" )\n",
    "elif i <= 100000:\n",
    "    a = 0.1*i\n",
    "    print(\"应当发放奖金：\" , a)\n",
    "elif i <= 200000:\n",
    "    a = 0.1*100000+(i-100000)*0.075\n",
    "    print(\"应当发放奖金：\" ,a)  \n",
    "elif i<= 400000:\n",
    "    a = 0.1*100000+0.075*100000+(i-200000)*0.05\n",
    "    print(\"应当发放奖金：\" ,a)\n",
    "elif i<= 600000:\n",
    "    a = 0.1*100000+0.075*100000+200000*0.05+(i-400000)*0.03\n",
    "    print(\"应当发放奖金：\" ,a)\n",
    "elif i<=1000000:\n",
    "    a = 0.1*100000+0.075*100000+200000*0.05+200000*0.03+(i-600000)*0.015\n",
    "    print(\"应当发放奖金：\" ,a)\n",
    "elif i>1000000:\n",
    "    a = 0.1*100000+0.075*100000+200000*0.005+200000*0.003+400000*0.015+(i-1000000)*0.01\n",
    "    print(\"应当发放奖金：\" ,a)"
   ]
  },
  {
   "cell_type": "markdown",
   "metadata": {},
   "source": [
    "##t03\n",
    "输入三个整数x,y,z，请把这三个数由小到大输出"
   ]
  },
  {
   "cell_type": "code",
   "execution_count": 47,
   "metadata": {},
   "outputs": [
    {
     "name": "stdout",
     "output_type": "stream",
     "text": [
      "请输入第一个值5\n",
      "请输入第二个值4\n",
      "请输入第三个值7\n",
      "[4.0, 5.0, 7.0]\n"
     ]
    }
   ],
   "source": [
    "x = float(input(\"请输入第一个值\"))\n",
    "y = float(input(\"请输入第二个值\"))\n",
    "z = float(input(\"请输入第三个值\"))\n",
    "if x<=y:\n",
    "    if x <= z:\n",
    "        list[0]=x\n",
    "        if y<=z :\n",
    "            list[1]=y\n",
    "            list[2]=z\n",
    "        elif y>z:\n",
    "            list[1]=z\n",
    "            list[2]=y\n",
    "    elif x>z:\n",
    "        list[0]=z\n",
    "        list[1]=x\n",
    "        list[2]=y\n",
    "    \n",
    "elif x>y:\n",
    "    list[0]=y\n",
    "    if x<=z:\n",
    "        list[1]=x\n",
    "        list[2]=z\n",
    "    elif x>z:\n",
    "        list[1]=z\n",
    "        list[2]=x\n",
    "print(list[0:3])"
   ]
  },
  {
   "cell_type": "markdown",
   "metadata": {},
   "source": [
    "##t04\n",
    "将一个列表的数据复制到另一个列表中"
   ]
  },
  {
   "cell_type": "code",
   "execution_count": 2,
   "metadata": {},
   "outputs": [
    {
     "name": "stdout",
     "output_type": "stream",
     "text": [
      "[1, 2, 3, 4]\n",
      "[]\n",
      "地址赋值\n",
      "[1, 2, 3, 4]\n",
      "调用函数\n",
      "[1, 2, 3, 4]\n",
      "遍历列表赋值\n",
      "[1, 2, 3, 4]\n",
      "列表生成\n",
      "[0, 1, 2, 3, 4]\n"
     ]
    }
   ],
   "source": [
    "list1 = [x for x in range(1,5)]\n",
    "list2 = []\n",
    "print(list1)\n",
    "print(list2)\n",
    "print(\"地址赋值\")\n",
    "list2=list1\n",
    "print(list2)\n",
    "print(\"调用函数\")\n",
    "list3=[]\n",
    "list3=list1.copy()\n",
    "print(list3)\n",
    "print(\"遍历列表赋值\")\n",
    "list4=[]\n",
    "for i in range(len(list1)):\n",
    "    list4.append(list1[i])\n",
    "print(list4)\n",
    "print(\"列表生成\")\n",
    "a = [x for x in range(0,5)]\n",
    "b = [i for i in a]\n",
    "print(b)"
   ]
  },
  {
   "cell_type": "markdown",
   "metadata": {},
   "source": [
    "##t05暂停一秒输出,并格式化当前时间。使用 time 模块的 sleep() 函数。"
   ]
  },
  {
   "cell_type": "code",
   "execution_count": 3,
   "metadata": {},
   "outputs": [
    {
     "name": "stdout",
     "output_type": "stream",
     "text": [
      "2020-11-20 17:26:32\n",
      "2020-11-20 17:26:33\n"
     ]
    }
   ],
   "source": [
    "import time\n",
    "print(time.strftime(\"%Y-%m-%d %H:%M:%S\",time.localtime()))\n",
    "time.sleep(1)\n",
    "print(time.strftime(\"%Y-%m-%d %H:%M:%S\",time.localtime()))"
   ]
  },
  {
   "cell_type": "markdown",
   "metadata": {},
   "source": [
    "##t06打印出所有的\\\"水仙花数\\\"，所谓\\\"水仙花数\\\"是指一个三位数，其各位数字立方和等于该数本身。例如：153是一个\\\"水仙花数\\\"，因为153=1的三次方＋5的三次方＋3的三次方。"
   ]
  },
  {
   "cell_type": "code",
   "execution_count": 5,
   "metadata": {},
   "outputs": [
    {
     "name": "stdout",
     "output_type": "stream",
     "text": [
      "153\n",
      "370\n",
      "371\n",
      "407\n"
     ]
    }
   ],
   "source": [
    "start = 101\n",
    "end = 999\n",
    "for i in range(start,end+1):\n",
    "    bai = i //100\n",
    "    shi,ge = (i-bai*100)//10,i%10\n",
    "    if ge**len(str(i))+shi**len(str(i))+bai**len(str(i))==i:\n",
    "        print(i)\n"
   ]
  },
  {
   "cell_type": "markdown",
   "metadata": {},
   "source": [
    "##t07 输入一行字符，分别统计出其中英文字母、空格、数字和其它字符的个数。"
   ]
  },
  {
   "cell_type": "code",
   "execution_count": 8,
   "metadata": {},
   "outputs": [
    {
     "name": "stdout",
     "output_type": "stream",
     "text": [
      "请输入字符串：la d 59\n",
      "字母=3\n",
      "数字=2\n",
      "空格=2\n",
      "其他=0\n"
     ]
    }
   ],
   "source": [
    "tmpStr = input('请输入字符串：')\n",
    "alphaNum=0\n",
    "numbers=0\n",
    "spaceNum=0\n",
    "otherNum=0\n",
    "for i in tmpStr:\n",
    "    if i.isalpha():\n",
    "        alphaNum +=1\n",
    "    elif i.isnumeric():\n",
    "        numbers +=1\n",
    "    elif i.isspace():\n",
    "        spaceNum +=1\n",
    "    else:\n",
    "        otherNum +=1\n",
    "print('字母=%d'%alphaNum)\n",
    "print('数字=%d'%numbers)\n",
    "print('空格=%d'%spaceNum)\n",
    "print('其他=%d'%otherNum)"
   ]
  },
  {
   "cell_type": "markdown",
   "metadata": {},
   "source": [
    "##08一球从100米高度自由落下，每次落地后反跳回原高度的一半；再落下，求它在第10次落地时，共经过多少米？第10次反弹多高？"
   ]
  },
  {
   "cell_type": "code",
   "execution_count": 17,
   "metadata": {},
   "outputs": [
    {
     "name": "stdout",
     "output_type": "stream",
     "text": [
      "第2次从50.0米高落地，共走过200米，之后又反弹至25.0米。\n",
      "第3次从25.0米高落地，共走过250.0米，之后又反弹至12.5米。\n",
      "第4次从12.5米高落地，共走过275.0米，之后又反弹至6.25米。\n",
      "第5次从6.25米高落地，共走过287.5米，之后又反弹至3.125米。\n",
      "第6次从3.125米高落地，共走过293.75米，之后又反弹至1.5625米。\n",
      "第7次从1.5625米高落地，共走过296.875米，之后又反弹至0.78125米。\n",
      "第8次从0.78125米高落地，共走过298.4375米，之后又反弹至0.390625米。\n",
      "第9次从0.390625米高落地，共走过299.21875米，之后又反弹至0.1953125米。\n",
      "第10次从0.1953125米高落地，共走过299.609375米，之后又反弹至0.09765625米。\n"
     ]
    }
   ],
   "source": [
    "a = [100]\n",
    "h = 100\n",
    "for i in range(2,11):\n",
    "    a.append(h)  #先计算路程，再高度减半，因为一个‘反弹落地’为2个高度\n",
    "    h = h / 2\n",
    "    print('第%s次从%s米高落地，共走过%s米，之后又反弹至%s米。' %(i,h,sum(a),h/2))"
   ]
  }
 ],
 "metadata": {
  "kernelspec": {
   "display_name": "Python 3",
   "language": "python",
   "name": "python3"
  },
  "language_info": {
   "codemirror_mode": {
    "name": "ipython",
    "version": 3
   },
   "file_extension": ".py",
   "mimetype": "text/x-python",
   "name": "python",
   "nbconvert_exporter": "python",
   "pygments_lexer": "ipython3",
   "version": "3.7.3"
  }
 },
 "nbformat": 4,
 "nbformat_minor": 2
}
