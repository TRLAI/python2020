{
 "cells": [
  {
   "cell_type": "code",
   "execution_count": 3,
   "metadata": {},
   "outputs": [
    {
     "name": "stdout",
     "output_type": "stream",
     "text": [
      "[123, 124, 132, 134, 142, 143, 213, 214, 231, 234, 241, 243, 312, 314, 321, 324, 341, 342, 412, 413, 421, 423, 431, 432]\n",
      "互不相同且无重复数字的三位数总计 24 个\n"
     ]
    }
   ],
   "source": [
    "#T01\n",
    "a = ['1','2','3','4']\n",
    " \n",
    "b=[]\n",
    "for i in a:\n",
    "    for j in [x for x  in a if x!=i]:\n",
    "        for m in [x for x in a if x!=i and x!=j]:\n",
    "            b.append(int(i+j+m))\n",
    "print(b)\n",
    "print('互不相同且无重复数字的三位数总计 %s 个'%len(b))"
   ]
  },
  {
   "cell_type": "code",
   "execution_count": 4,
   "metadata": {},
   "outputs": [
    {
     "name": "stdout",
     "output_type": "stream",
     "text": [
      "请输入当月利润，单位为万元：5\n",
      "当月应发放奖金总数为0.5万元\n"
     ]
    }
   ],
   "source": [
    "#T02\n",
    "money = float(input(\"请输入当月利润，单位为万元：\"))\n",
    "bonus = 0\n",
    "li = [100,60,40,20,10,0]\n",
    "bi = [0.01,0.015,0.03,0.05,0.075,0.1]\n",
    "\n",
    "for i in range(6):\n",
    "    if money > li[i]:\n",
    "        cmoney = money - li[i]\n",
    "        bonus = bonus + cmoney * bi[i]\n",
    "        #money = money - cmoney\n",
    "        money = li[i]\n",
    "\n",
    "print(\"当月应发放奖金总数为%s万元\" %bonus)"
   ]
  },
  {
   "cell_type": "code",
   "execution_count": 5,
   "metadata": {},
   "outputs": [
    {
     "name": "stdout",
     "output_type": "stream",
     "text": [
      "2\n",
      "5\n",
      "8\n",
      "排序后：\n",
      "2,5,8,"
     ]
    }
   ],
   "source": [
    "#T03\n",
    "x=input()\n",
    "y=input()\n",
    "z=input()\n",
    "list = [x,y,z]\n",
    "s_list = sorted(list)\n",
    "print(\"排序后：\")\n",
    "for i in s_list:\n",
    "    print(i,end=',')"
   ]
  },
  {
   "cell_type": "code",
   "execution_count": null,
   "metadata": {},
   "outputs": [],
   "source": [
    "#T04\n",
    "a=[1,2,3,4]\n",
    "b=a.copy()\n",
    "b"
   ]
  },
  {
   "cell_type": "code",
   "execution_count": 6,
   "metadata": {},
   "outputs": [
    {
     "name": "stdout",
     "output_type": "stream",
     "text": [
      "a\n",
      "b\n"
     ]
    }
   ],
   "source": [
    "#T05\n",
    "import time\n",
    "print('a')\n",
    "time.sleep(1)\n",
    "print('b')"
   ]
  },
  {
   "cell_type": "code",
   "execution_count": 7,
   "metadata": {},
   "outputs": [
    {
     "name": "stdout",
     "output_type": "stream",
     "text": [
      "1\n",
      "2\n",
      "3\n",
      "4\n",
      "5\n",
      "6\n",
      "7\n",
      "8\n",
      "9\n",
      "153\n",
      "370\n",
      "371\n",
      "407\n",
      "1634\n",
      "8208\n",
      "9474\n"
     ]
    }
   ],
   "source": [
    "#T06\n",
    "start = 1\n",
    "end = 10000\n",
    "for i in range(start, end + 1):\n",
    "    sm = 0\n",
    "    for j in str(i):\n",
    "        sm += (ord(j) - 48) ** len(str(i))\n",
    "    # 判断是否为水仙花数\n",
    "    if sm == i:\n",
    "        print(i)"
   ]
  },
  {
   "cell_type": "code",
   "execution_count": 8,
   "metadata": {},
   "outputs": [
    {
     "name": "stdout",
     "output_type": "stream",
     "text": [
      "input a string:\n",
      "FASEFAE789,\n",
      "字符数=7,空格数=0,数字数=3,其他字符数=1\n"
     ]
    }
   ],
   "source": [
    "#T07\n",
    "s=input('input a string:\\n')\n",
    "letters=0\n",
    "space=0\n",
    "digit=0\n",
    "others=0\n",
    "for c in s:\n",
    "    if c.isalpha():\n",
    "        letters+=1\n",
    "    elif c.isspace():\n",
    "        space+=1\n",
    "    elif c.isdigit():\n",
    "        digit+=1\n",
    "    else:\n",
    "        others+=1\n",
    "print('字符数=%d,空格数=%d,数字数=%d,其他字符数=%d'%(letters,space,digit,others))"
   ]
  },
  {
   "cell_type": "code",
   "execution_count": 9,
   "metadata": {},
   "outputs": [
    {
     "name": "stdout",
     "output_type": "stream",
     "text": [
      "落地的高度为：10\n",
      "25.0\n",
      "2.5\n"
     ]
    }
   ],
   "source": [
    "#T08\n",
    "n = int(input('落地的高度为：'))\n",
    "#ciShu = int(input('落地的次数：'))\n",
    "sum = 0\n",
    "for ciShu in range(1,4):\n",
    "    if ciShu==1:\n",
    "        sum +=n;\n",
    "    else:\n",
    "        n /=2\n",
    "        sum += n*2\n",
    "print(sum)\n",
    "print(n)"
   ]
  },
  {
   "cell_type": "code",
   "execution_count": null,
   "metadata": {},
   "outputs": [],
   "source": []
  }
 ],
 "metadata": {
  "kernelspec": {
   "display_name": "Python 3",
   "language": "python",
   "name": "python3"
  },
  "language_info": {
   "codemirror_mode": {
    "name": "ipython",
    "version": 3
   },
   "file_extension": ".py",
   "mimetype": "text/x-python",
   "name": "python",
   "nbconvert_exporter": "python",
   "pygments_lexer": "ipython3",
   "version": "3.8.3"
  }
 },
 "nbformat": 4,
 "nbformat_minor": 4
}
