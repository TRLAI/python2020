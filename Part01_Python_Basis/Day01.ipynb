{
 "cells": [
  {
   "cell_type": "markdown",
   "metadata": {},
   "source": [
    "# Day01 Python基础"
   ]
  },
  {
   "cell_type": "code",
   "execution_count": null,
   "metadata": {
    "scrolled": true
   },
   "outputs": [],
   "source": [
    "import this"
   ]
  },
  {
   "cell_type": "markdown",
   "metadata": {},
   "source": [
    "# the zen of python 中文\n",
    "Beautiful is better than ugly.\n",
    "\n",
    "美丽优于丑陋（Python 以编写优美的代码为目标）\n",
    "\n",
    "Explicit is better than implicit.\n",
    "\n",
    "明了优于含蓄（优美的代码应当是明了的，命名规范，风格相似）\n",
    "\n",
    "Simple is better than complex.\n",
    "\n",
    "简单优于复杂（优美的代码应当是简洁的，不要有复杂的内部实现）\n",
    "\n",
    "Complex is better than complicated.\n",
    "\n",
    "复杂优于繁琐（如果复杂不可避免，那代码间也不能有难懂的关系，要保持接口简洁）\n",
    "\n",
    "Flat is better than nested.\n",
    "\n",
    "扁平优于嵌套（优美的代码应当是扁平的，不能有太多的嵌套）\n",
    "\n",
    "Sparse is better than dense.\n",
    "\n",
    "间隔优于紧凑（优美的代码有适当的间隔，不要奢望一行代码解决问题）\n",
    "\n",
    "Readability counts.\n",
    "\n",
    "可读性很重要（优美的代码是可读的 ）\n",
    "\n",
    "Special cases aren’t special enough to break the rules.\n",
    "\n",
    "即便假借特例的实用性之名，也不可违背这些规则（这些规则至高无上）\n",
    "\n",
    "Although practicality beats purity.\n",
    "\n",
    "Errors should never pass silently.\n",
    "\n",
    "Unless explicitly silenced.\n",
    "\n",
    "不要包容所有错误，除非你确定需要这样做（精准地捕获异常，不写 except:pass 风格的代码）\n",
    "\n",
    "In the face of ambiguity, refuse the temptation to guess.\n",
    "\n",
    "There should be one– and preferably only one –obvious way to do it.\n",
    "\n",
    "Although that way may not be obvious at first unless you’re Dutch.\n",
    "\n",
    "Now is better than never.\n",
    "\n",
    "Although never is often better than right now.\n",
    "\n",
    "当存在多种可能，不要尝试去猜测\n",
    "\n",
    "而是尽量找一种，最好是唯一一种明显的解决方案（如果不确定，就用穷举法）\n",
    "\n",
    "虽然这并不容易，因为你不是 Python 之父（这里的 Dutch 是指 Guido ）\n",
    "\n",
    "If the implementation is hard to explain, it’s a bad idea.\n",
    "\n",
    "做也许好过不做，但不假思索就动手还不如不做（动手之前要细思量）\n",
    "\n",
    "If the implementation is easy to explain, it may be a good idea.\n",
    "\n",
    "如果你无法向人描述你的方案，那肯定不是一个好方案；反之亦然（方案测评标准）\n",
    "\n",
    "Namespaces are one honking great idea – let’s do more of those!\n",
    "\n",
    "命名空间是一种绝妙的理念，我们应当多加利用（倡导与号召）"
   ]
  },
  {
   "cell_type": "markdown",
   "metadata": {},
   "source": [
    "# Python3 简介\n",
    "\n",
    "Python 是一个高层次的结合了解释性、编译性、互动性和面向对象的脚本语言。\n",
    "\n",
    "Python 的设计具有很强的可读性，相比其他语言经常使用英文关键字，其他语言的一些标点符号，它具有比其他语言更有特色语法结构。\n",
    "\n",
    "- Python 是一种解释型语言： 这意味着开发过程中没有了编译这个环节。类似于PHP和Perl语言。\n",
    "\n",
    "- Python 是交互式语言： 这意味着，您可以在一个 Python 提示符 `>>>` 后直接执行代码。\n",
    "\n",
    "- Python 是面向对象语言: 这意味着Python支持面向对象的风格或代码封装在对象的编程技术。\n",
    "\n",
    "- Python 是初学者的语言：Python 对初级程序员而言，是一种伟大的语言，它支持广泛的应用程序开发，从简单的文字处理到 WWW 浏览器再到游戏。"
   ]
  },
  {
   "cell_type": "markdown",
   "metadata": {},
   "source": [
    "# Python 发展历史\n",
    "\n",
    "Python 是由 Guido van Rossum 在八十年代末和九十年代初，在荷兰国家数学和计算机科学研究所设计出来的。\n",
    "\n",
    "Python 本身也是由诸多其他语言发展而来的,这包括 ABC、Modula-3、C、C++、Algol-68、SmallTalk、Unix shell 和其他的脚本语言等等。\n",
    "\n",
    "像 Perl 语言一样，Python 源代码同样遵循 GPL(GNU General Public License)协议。\n",
    "\n",
    "现在 Python 是由一个核心开发团队在维护，Guido van Rossum 仍然占据着至关重要的作用，指导其进展。\n",
    "\n",
    "Python 2.0 于 2000 年 10 月 16 日发布，增加了实现完整的垃圾回收，并且支持 Unicode。\n",
    "\n",
    "Python 3.0 于 2008 年 12 月 3 日发布，此版不完全兼容之前的 Python 源代码。不过，很多新特性后来也被移植到旧的Python 2.6/2.7版本。\n",
    "\n",
    "Python 3.0 版本，常被称为 Python 3000，或简称 Py3k。相对于 Python 的早期版本，这是一个较大的升级。\n",
    "\n",
    "Python 2.7 被确定为最后一个 Python 2.x 版本，它除了支持 Python 2.x 语法外，还支持部分 Python 3.1 语法。"
   ]
  },
  {
   "cell_type": "markdown",
   "metadata": {},
   "source": [
    "# Python 特点\n",
    "\n",
    "1. 易于学习：Python有相对较少的关键字，结构简单，和一个明确定义的语法，学习起来更加简单。\n",
    "2. 易于阅读：Python代码定义的更清晰。\n",
    "3. 易于维护：Python的成功在于它的源代码是相当容易维护的。\n",
    "4. 一个广泛的标准库：Python的最大的优势之一是丰富的库，跨平台的，在UNIX，Windows和Macintosh兼容很好。\n",
    "5. 互动模式：互动模式的支持，您可以从终端输入执行代码并获得结果的语言，互动的测试和调试代码片断。\n",
    "6. 可移植：基于其开放源代码的特性，Python已经被移植（也就是使其工作）到许多平台。\n",
    "7. 可扩展：如果你需要一段运行很快的关键代码，或者是想要编写一些不愿开放的算法，你可以使用C或C++完成那部分程序，然后从你的Python程序中调用。\n",
    "8. 数据库：Python提供所有主要的商业数据库的接口。\n",
    "9. GUI编程：Python支持GUI可以创建和移植到许多系统调用。\n",
    "10. 可嵌入: 你可以将Python嵌入到C/C++程序，让你的程序的用户获得\"脚本化\"的能力。"
   ]
  },
  {
   "cell_type": "markdown",
   "metadata": {},
   "source": [
    "# Python 应用\n",
    "\n",
    "- Youtube - 视频社交网站\n",
    "- Reddit - 社交分享网站\n",
    "- Dropbox - 文件分享服务\n",
    "- 豆瓣网 - 图书、唱片、电影等文化产品的资料数据库网站\n",
    "- 知乎 - 一个问答网站\n",
    "- 果壳 - 一个泛科技主题网站\n",
    "- Bottle - Python微Web框架\n",
    "- EVE - 网络游戏EVE大量使用Python进行开发\n",
    "- Blender - 使用Python作为建模工具与GUI语言的开源3D绘图软件\n",
    "- Inkscape - 一个开源的SVG矢量图形编辑器。\n",
    "- ..."
   ]
  },
  {
   "cell_type": "markdown",
   "metadata": {},
   "source": [
    "# 在notebook中查看python版本"
   ]
  },
  {
   "cell_type": "code",
   "execution_count": null,
   "metadata": {},
   "outputs": [],
   "source": [
    "!python -V"
   ]
  },
  {
   "cell_type": "markdown",
   "metadata": {},
   "source": [
    "# print输出"
   ]
  },
  {
   "cell_type": "code",
   "execution_count": null,
   "metadata": {},
   "outputs": [],
   "source": [
    "# 换行输出\n",
    "print(\"Hello, Python!\")\n",
    "print(\"Hello, Python!!!\")\n",
    "# 不换行输出\n",
    "print(\"Hello\", end=\", \" )\n",
    "print(\"Python\", end=\"!!!\" )"
   ]
  },
  {
   "cell_type": "markdown",
   "metadata": {},
   "source": [
    "# 直接输出\n",
    "- 只有最后一行会按执行输出\n",
    "- 可以省略一次`print`"
   ]
  },
  {
   "cell_type": "code",
   "execution_count": null,
   "metadata": {},
   "outputs": [],
   "source": [
    "py1 = \"Hello, Python!\"\n",
    "py1 # 不会输出\n",
    "py2 = \"Hello, Python!!!\"\n",
    "py1 # 注释py2行\n",
    "py2 # 注释py1,py2行\n",
    "py1,py2"
   ]
  },
  {
   "cell_type": "markdown",
   "metadata": {},
   "source": [
    "# print输出 和 直接输出\n",
    "\n",
    "## python保留字\n",
    "给变量命名的时候，不要使用保留字中的单词"
   ]
  },
  {
   "cell_type": "code",
   "execution_count": null,
   "metadata": {},
   "outputs": [],
   "source": [
    "import keyword\n",
    "print(keyword.kwlist)\n",
    "keyword.kwlist"
   ]
  },
  {
   "cell_type": "markdown",
   "metadata": {},
   "source": [
    "# 注释"
   ]
  },
  {
   "cell_type": "code",
   "execution_count": null,
   "metadata": {},
   "outputs": [],
   "source": [
    "# 第一个，单行注释\n",
    "# 第二个，单行注释\n",
    "\n",
    "'''\n",
    "第三个，多行注释\n",
    "第四个，多行注释\n",
    "'''\n",
    "\n",
    "\"\"\"\n",
    "第五个，多行注释\n",
    "第六个，多行注释\n",
    "\"\"\"\n",
    "print (\"Hello, Python!\")"
   ]
  },
  {
   "cell_type": "markdown",
   "metadata": {},
   "source": [
    "# 行与缩进\n",
    "\n",
    "- python最具特色的就是使用缩进来表示代码块，不需要使用大括号 `{}` 。\n",
    "\n",
    "## 缩进的空格数是可变的，但是同一个代码块的语句必须包含相同的缩进空格数。实例如下："
   ]
  },
  {
   "cell_type": "code",
   "execution_count": null,
   "metadata": {},
   "outputs": [],
   "source": [
    "if True:\n",
    "    print (\"True\")\n",
    "else:\n",
    "    print (\"False\")"
   ]
  },
  {
   "cell_type": "markdown",
   "metadata": {},
   "source": [
    "## 以下代码最后一行语句缩进数的空格数不一致，会导致运行错误："
   ]
  },
  {
   "cell_type": "code",
   "execution_count": null,
   "metadata": {},
   "outputs": [],
   "source": [
    "if True:\n",
    "    print (\"Answer\")\n",
    "    print (\"True\")\n",
    "else:\n",
    "    print (\"Answer\")\n",
    "  print (\"False\")    # 缩进不一致，会导致运行错误，正确的在下一个代码块儿"
   ]
  },
  {
   "cell_type": "markdown",
   "metadata": {},
   "source": [
    "# 条件语句"
   ]
  },
  {
   "cell_type": "code",
   "execution_count": null,
   "metadata": {},
   "outputs": [],
   "source": [
    "if True:\n",
    "# if False:\n",
    "    print (\"Answer\")\n",
    "    print (\"True\")\n",
    "else:\n",
    "    print (\"Answer\")\n",
    "    print (\"False\")"
   ]
  },
  {
   "cell_type": "markdown",
   "metadata": {},
   "source": [
    "# 多行语句\n",
    "\n",
    "## Python 通常是一行写完一条语句，但如果语句很长，我们可以使用反斜杠(\\)来实现多行语句，例如："
   ]
  },
  {
   "cell_type": "code",
   "execution_count": null,
   "metadata": {},
   "outputs": [],
   "source": [
    "item_one = 1\n",
    "item_two = 2\n",
    "item_three = 3\n",
    "total = item_one + \\\n",
    "        item_two + \\\n",
    "        item_three\n",
    "total"
   ]
  },
  {
   "cell_type": "markdown",
   "metadata": {},
   "source": [
    "## 在[],{},或()中的多行语句，不需要使用反斜杠`\\`，例如："
   ]
  },
  {
   "cell_type": "code",
   "execution_count": null,
   "metadata": {},
   "outputs": [],
   "source": [
    "total = ['item_one', 'item_two', 'item_three',\n",
    "         'item_four', 'item_five']\n",
    "total"
   ]
  },
  {
   "cell_type": "code",
   "execution_count": null,
   "metadata": {},
   "outputs": [],
   "source": [
    "total = ['item_one',\n",
    "         'item_two',\n",
    "         'item_three',\n",
    "         'item_four',\n",
    "         'item_two', \n",
    "         'item_five']\n",
    "total"
   ]
  },
  {
   "cell_type": "markdown",
   "metadata": {},
   "source": [
    "# 数字(Number)类型\n",
    "\n",
    "python中数字有四种类型：整数、布尔型、浮点数和复数。\n",
    "\n",
    "- \n",
    "- \n",
    "- \n",
    "- "
   ]
  },
  {
   "cell_type": "markdown",
   "metadata": {},
   "source": [
    "## int (整数), 如 1, 只有一种整数类型 int，表示为长整型，没有 python2 中的 Long\n",
    "### 较小的值，内存地址不变"
   ]
  },
  {
   "cell_type": "code",
   "execution_count": null,
   "metadata": {},
   "outputs": [],
   "source": [
    "num1 = 1\n",
    "num2 = 1000000000000000000000000\n",
    "type(num1),type(num2),id(num1),id(num2)"
   ]
  },
  {
   "cell_type": "markdown",
   "metadata": {},
   "source": [
    "## bool (布尔), 如 True"
   ]
  },
  {
   "cell_type": "code",
   "execution_count": null,
   "metadata": {
    "scrolled": true
   },
   "outputs": [],
   "source": [
    "a = [1, 2, 3]\n",
    "print(4 in a)\n",
    "print(1 in a)"
   ]
  },
  {
   "cell_type": "markdown",
   "metadata": {},
   "source": [
    "## float (浮点数), 如 1.23、3E-2"
   ]
  },
  {
   "cell_type": "code",
   "execution_count": null,
   "metadata": {
    "scrolled": true
   },
   "outputs": [],
   "source": [
    "print(1 / 3)\n",
    "print(3e-2)"
   ]
  },
  {
   "cell_type": "markdown",
   "metadata": {},
   "source": [
    "## complex (复数), 如 1 + 2j、 1.1 + 2.2j"
   ]
  },
  {
   "cell_type": "code",
   "execution_count": null,
   "metadata": {
    "scrolled": false
   },
   "outputs": [],
   "source": [
    "a = 1 + 2j\n",
    "b = 1.1 + 2.2j\n",
    "type(a),type(b)"
   ]
  },
  {
   "cell_type": "markdown",
   "metadata": {},
   "source": [
    "# 字符串(String)"
   ]
  },
  {
   "cell_type": "markdown",
   "metadata": {},
   "source": [
    "## python中单引号和双引号使用**完全相同**。"
   ]
  },
  {
   "cell_type": "code",
   "execution_count": null,
   "metadata": {
    "scrolled": true
   },
   "outputs": [],
   "source": [
    "str1 = 'abc'\n",
    "str2 = \"abc\"\n",
    "print(type(str1),type(str2))\n",
    "str1,str2"
   ]
  },
  {
   "cell_type": "markdown",
   "metadata": {},
   "source": [
    "## 使用三引号('''或\"\"\")可以指定一个多行字符串。"
   ]
  },
  {
   "cell_type": "code",
   "execution_count": null,
   "metadata": {
    "scrolled": true
   },
   "outputs": [],
   "source": [
    "str3 = '''abc\n",
    "    def\n",
    "        ghi'''\n",
    "print(str3)\n",
    "str3"
   ]
  },
  {
   "cell_type": "markdown",
   "metadata": {},
   "source": [
    "## 转义符 `\\`"
   ]
  },
  {
   "cell_type": "code",
   "execution_count": null,
   "metadata": {
    "scrolled": true
   },
   "outputs": [],
   "source": [
    "str4 = ' abc\\n def\\n ghi'\n",
    "print(str4)\n",
    "str4\n"
   ]
  },
  {
   "cell_type": "markdown",
   "metadata": {},
   "source": [
    "## 反斜杠可以用来转义，使用r可以让反斜杠不发生转义。 如 r\"this is a line with \\n !\" 则\\n会显示，并不是换行。\n",
    "\n",
    "- 这里的 r 指 raw，即 raw string。"
   ]
  },
  {
   "cell_type": "code",
   "execution_count": null,
   "metadata": {
    "scrolled": true
   },
   "outputs": [],
   "source": [
    "print(r\"this is a line with \\n !\")"
   ]
  },
  {
   "cell_type": "markdown",
   "metadata": {},
   "source": [
    "## 按字面意义级联字符串，如\"this \" \"is \" \"string\"会被自动转换为this is string"
   ]
  },
  {
   "cell_type": "code",
   "execution_count": null,
   "metadata": {},
   "outputs": [],
   "source": [
    "a = \"this \"\n",
    "b = \"is \"\n",
    "c = \"string\"\n",
    "print(a + b + c)"
   ]
  },
  {
   "cell_type": "markdown",
   "metadata": {},
   "source": [
    "## 字符串可以用 `+` 运算符连接在一起，用 `*` 运算符重复。"
   ]
  },
  {
   "cell_type": "code",
   "execution_count": null,
   "metadata": {
    "scrolled": true
   },
   "outputs": [],
   "source": [
    "print(\"-\" * 50)"
   ]
  },
  {
   "cell_type": "markdown",
   "metadata": {},
   "source": [
    "## Python 中的字符串有两种索引方式，从左往右以 `0` 开始，从右往左以 `-1` 开始。"
   ]
  },
  {
   "cell_type": "code",
   "execution_count": null,
   "metadata": {
    "scrolled": true
   },
   "outputs": [],
   "source": [
    "c = \"Python\"\n",
    "print(c[0])\n",
    "print(c[-1])"
   ]
  },
  {
   "cell_type": "markdown",
   "metadata": {},
   "source": [
    "## Python中的字符串不能改变。"
   ]
  },
  {
   "cell_type": "markdown",
   "metadata": {},
   "source": [
    "## Python 没有单独的字符类型，一个字符就是长度为 `1` 的字符串。"
   ]
  },
  {
   "cell_type": "code",
   "execution_count": null,
   "metadata": {
    "scrolled": true
   },
   "outputs": [],
   "source": [
    "s1 = 'a'\n",
    "type(s1),len(s1)"
   ]
  },
  {
   "cell_type": "markdown",
   "metadata": {},
   "source": [
    "## 字符串的截取的语法格式如下：变量[头下标:尾下标:步长]"
   ]
  },
  {
   "cell_type": "code",
   "execution_count": null,
   "metadata": {},
   "outputs": [],
   "source": [
    "s2 = 'abcdefghijk'\n",
    "s2[0:6:2]"
   ]
  },
  {
   "cell_type": "markdown",
   "metadata": {},
   "source": [
    "# 等待用户输入"
   ]
  },
  {
   "cell_type": "code",
   "execution_count": null,
   "metadata": {},
   "outputs": [],
   "source": [
    "input(\"\\n\\n按下 enter 键后退出。\")"
   ]
  },
  {
   "cell_type": "markdown",
   "metadata": {},
   "source": [
    "# 同一行显示多条语句"
   ]
  },
  {
   "cell_type": "code",
   "execution_count": null,
   "metadata": {
    "scrolled": true
   },
   "outputs": [],
   "source": [
    "import sys; x = 'runoob'; sys.stdout.write(x + '\\n')"
   ]
  },
  {
   "cell_type": "markdown",
   "metadata": {},
   "source": [
    "# import 与 from...import"
   ]
  },
  {
   "cell_type": "code",
   "execution_count": null,
   "metadata": {
    "scrolled": true
   },
   "outputs": [],
   "source": [
    "import sys\n",
    "print('================Python import mode==========================')\n",
    "print ('命令行参数为:')\n",
    "for i in sys.argv:\n",
    "    print (i)\n",
    "print ('\\n python 路径为',sys.path)"
   ]
  },
  {
   "cell_type": "code",
   "execution_count": null,
   "metadata": {},
   "outputs": [],
   "source": [
    "from sys import argv,path  #  导入特定的成员\n",
    " \n",
    "print('================python from import===================================')\n",
    "print('path:',path) # 因为已经导入path成员，所以此处引用时不需要加sys.path"
   ]
  },
  {
   "cell_type": "markdown",
   "metadata": {},
   "source": [
    "# 命令行参数及帮助"
   ]
  },
  {
   "cell_type": "code",
   "execution_count": null,
   "metadata": {},
   "outputs": [],
   "source": [
    "!python -h"
   ]
  },
  {
   "cell_type": "code",
   "execution_count": null,
   "metadata": {},
   "outputs": [],
   "source": []
  }
 ],
 "metadata": {
  "kernelspec": {
   "display_name": "Python 3",
   "language": "python",
   "name": "python3"
  },
  "language_info": {
   "codemirror_mode": {
    "name": "ipython",
    "version": 3
   },
   "file_extension": ".py",
   "mimetype": "text/x-python",
   "name": "python",
   "nbconvert_exporter": "python",
   "pygments_lexer": "ipython3",
   "version": "3.8.3"
  },
  "toc": {
   "base_numbering": 1,
   "nav_menu": {},
   "number_sections": true,
   "sideBar": true,
   "skip_h1_title": false,
   "title_cell": "Table of Contents",
   "title_sidebar": "Contents",
   "toc_cell": false,
   "toc_position": {},
   "toc_section_display": true,
   "toc_window_display": true
  }
 },
 "nbformat": 4,
 "nbformat_minor": 4
}
