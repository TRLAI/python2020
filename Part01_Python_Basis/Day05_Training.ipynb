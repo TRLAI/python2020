{
 "cells": [
  {
   "cell_type": "code",
   "execution_count": 3,
   "metadata": {},
   "outputs": [
    {
     "name": "stdout",
     "output_type": "stream",
     "text": [
      "123  124  132  134  142  143  \n",
      "213  214  231  234  241  243  \n",
      "312  314  321  324  341  342  \n",
      "412  413  421  423  431  432  \n",
      "最终结果为：24个\n"
     ]
    }
   ],
   "source": [
    "#有四个数字1、2、3、4，能组成多少个互不相同且无重复数字的三位数？各是多少？\n",
    "tar = [1, 2, 3, 4]\n",
    "count = 0 \n",
    "for i in range(len(tar)):\n",
    "    x = str(tar.pop(i)) \n",
    "    for j in range(len(tar)):\n",
    "        y = str(tar.pop(j))  \n",
    "        for k in range(len(tar)):\n",
    "            print(x + y + str(tar[k]), end='  ') \n",
    "            count += 1  \n",
    "        tar.insert(j, int(y))  \n",
    "    tar.insert(i, int(x)) \n",
    "    print('')  \n",
    "print('最终结果为：%s个' % count)"
   ]
  },
  {
   "cell_type": "code",
   "execution_count": 4,
   "metadata": {},
   "outputs": [
    {
     "name": "stdout",
     "output_type": "stream",
     "text": [
      "please enter the profit:101.\n",
      "3.96\n"
     ]
    }
   ],
   "source": [
    "#第二题\n",
    "x=float(input(\"please enter the profit:\"))\n",
    "if x<=10:\n",
    "    sum=x*0.1\n",
    "if x>10 and x<=20:\n",
    "    sum=10*0.1+(x-10)*0.075\n",
    "if x>20 and x<=40:\n",
    "    sum=10*0.1+(20-10)*0.075+(x-20)*0.05\n",
    "if x>40 and x<=60:\n",
    "    sum=10*0.1+(20-10)*0.075+(40-20)*0.05+(x-40)*0.03\n",
    "if x>60 and x<=100:\n",
    "    sum=10*0.1+(20-10)*0.075+(40-20)*0.05+(60-40)*0.03+(x-60)*0.015\n",
    "if x>100:\n",
    "    sum=10*0.1+(20-10)*0.075+(40-20)*0.05+(60-40)*0.03+(100-60)*0.015+(x-100)*0.01\n",
    "print(sum)\n"
   ]
  },
  {
   "cell_type": "code",
   "execution_count": 5,
   "metadata": {},
   "outputs": [
    {
     "name": "stdout",
     "output_type": "stream",
     "text": [
      "请输入第1个整数：3\n",
      "请输入第2个整数：2\n",
      "请输入第3个整数：1\n",
      "[3, 2, 1]\n"
     ]
    }
   ],
   "source": [
    "#第三题\n",
    "num=[]\n",
    "for i in range(3):\n",
    "    number=int(input('请输入第{}个整数：'.format(i+1)))\n",
    "    num.append(number)\n",
    "num.sort(reverse=False)\n",
    "print(num)\n"
   ]
  },
  {
   "cell_type": "code",
   "execution_count": 6,
   "metadata": {},
   "outputs": [
    {
     "name": "stdout",
     "output_type": "stream",
     "text": [
      "[0, 1, 2, 3, 4, 5, 11, 12]\n",
      "[2, 3, 1, 0, 12, 11, 4, 5]\n",
      "5\n",
      "[0, 1, 2, 3, 4, 5, 11, 12]\n",
      "[2, 3, 1, 0, 12, 11, 4, 5]\n"
     ]
    }
   ],
   "source": [
    "#第四题\n",
    "L = [2, 3, 1, 0, 12, 11, 4, 5]\n",
    "L1 = []\n",
    "L1_1 = []\n",
    "L2 = []\n",
    "L3 = []\n",
    "for i in range(0,len(L)):\n",
    "\tL1.append(L[i])\n",
    "\tL1_1 = L[i]\n",
    "L2 = L\n",
    "L3 = L.copy()\n",
    "L.sort()\n",
    "print(L)\n",
    "print(L1)\n",
    "print(L1_1)\n",
    "print(L2)\n",
    "print(L3)\n"
   ]
  },
  {
   "cell_type": "code",
   "execution_count": 7,
   "metadata": {},
   "outputs": [
    {
     "name": "stdout",
     "output_type": "stream",
     "text": [
      "2020-11-18 21:33:04\n",
      "2020-11-18 21:33:05\n"
     ]
    }
   ],
   "source": [
    "#第五题\n",
    "import time\n",
    "print(time.strftime('%Y-%m-%d %H:%M:%S', time.localtime()))\n",
    "time.sleep(1)\n",
    "print(time.strftime('%Y-%m-%d %H:%M:%S', time.localtime()))"
   ]
  },
  {
   "cell_type": "code",
   "execution_count": 8,
   "metadata": {},
   "outputs": [
    {
     "name": "stdout",
     "output_type": "stream",
     "text": [
      "153 370 371 407 "
     ]
    }
   ],
   "source": [
    "#第六题\n",
    "for i in range(100,1000):\n",
    "        ge=i%10\n",
    "        shi=i//10%10\n",
    "        bai=i//100\n",
    "        if ge**3+shi**3+bai**3==i:\n",
    "                print(i,end=\" \")"
   ]
  },
  {
   "cell_type": "code",
   "execution_count": 9,
   "metadata": {},
   "outputs": [
    {
     "name": "stdout",
     "output_type": "stream",
     "text": [
      "input a string:\n",
      "yyh123..  \n",
      "char=3,space=2,digit=3,others=2\n"
     ]
    }
   ],
   "source": [
    "#第七题\n",
    "s=input('input a string:\\n')\n",
    "letters=0\n",
    "space=0\n",
    "digit=0\n",
    "others=0\n",
    "for c in s:\n",
    "    if c.isalpha():\n",
    "        letters+=1\n",
    "    elif c.isspace():\n",
    "        space+=1\n",
    "    elif c.isdigit():\n",
    "        digit+=1\n",
    "    else:\n",
    "        others+=1\n",
    "print('char=%d,space=%d,digit=%d,others=%d'%(letters,space,digit,others))\n"
   ]
  },
  {
   "cell_type": "code",
   "execution_count": 10,
   "metadata": {},
   "outputs": [
    {
     "name": "stdout",
     "output_type": "stream",
     "text": [
      "第10次落地时，共经过 299.609375 米\n",
      "第10次反弹 0.09765625 米\n"
     ]
    }
   ],
   "source": [
    "#第八题\n",
    "times = 10\n",
    "height_sum = 100\n",
    "height_list = [100]  \n",
    "for i in range(1, times):\n",
    "    height_list.append(height_list[i-1] / 2)\n",
    "    height_sum += height_list[i] * 2\n",
    "\n",
    "print(\"第10次落地时，共经过 %f 米\" % height_sum)\n",
    "print(\"第10次反弹 %.8f 米\" % (height_list[times - 1] / 2))\n"
   ]
  }
 ],
 "metadata": {
  "kernelspec": {
   "display_name": "Python 3",
   "language": "python",
   "name": "python3"
  },
  "language_info": {
   "codemirror_mode": {
    "name": "ipython",
    "version": 3
   },
   "file_extension": ".py",
   "mimetype": "text/x-python",
   "name": "python",
   "nbconvert_exporter": "python",
   "pygments_lexer": "ipython3",
   "version": "3.8.5"
  }
 },
 "nbformat": 4,
 "nbformat_minor": 4
}
