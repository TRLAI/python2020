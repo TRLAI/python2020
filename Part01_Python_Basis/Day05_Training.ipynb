{
 "cells": [
  {
   "cell_type": "markdown",
   "metadata": {},
   "source": [
    "# Day05 练习题"
   ]
  },
  {
   "cell_type": "markdown",
   "metadata": {},
   "source": [
    "## T01\n",
    "\n",
    "有四个数字：1、2、3、4，能组成多少个互不相同且无重复数字的三位数？各是多少？"
   ]
  },
  {
   "cell_type": "code",
   "execution_count": null,
   "outputs": [],
   "source": [
    "arrays = [1,2,3,4]\n",
    "result = []\n",
    "for i in arrays:\n",
    "    print(i)\n",
    "    for j in [x for x  in arrays if x!=i]:\n",
    "        print(j)\n",
    "        for m in [x for x in arrays if x!=i and x!=j]:\n",
    "            print(m)\n",
    "            result.append(int(i+j+m))\n",
    "print(result,end=' ')\n",
    "print('可以组成的三位数总计 %s 个'%len(result))"
   ],
   "metadata": {
    "collapsed": false,
    "pycharm": {
     "name": "#%%\n"
    }
   }
  },
  {
   "cell_type": "markdown",
   "metadata": {},
   "source": [
    "## T02\n",
    "\n",
    "企业发放的奖金根据利润提成。利润(I)低于或等于10万元时，奖金可提10%；利润高于10万元，低于20万元时，低于10万元的部分按10%提成，高于10万元的部分，可提成7.5%；20万到40万之间时，高于20万元的部分，可提成5%；40万到60万之间时高于40万元的部分，可提成3%；60万到100万之间时，高于60万元的部分，可提成1.5%，高于100万元时，超过100万元的部分按1%提成，从键盘输入当月利润I，求应发放奖金总数？"
   ]
  },
  {
   "cell_type": "code",
   "execution_count": null,
   "outputs": [],
   "source": [
    "def lirun(i):\n",
    "    if i<=10:\n",
    "        return 10*0.1\n",
    "    if i>10&i<=20:\n",
    "        return (i-10)*0.075 + lirun(10)\n",
    "    if i>20&i<=40:\n",
    "        return (i-20)*0.05 + lirun(20)\n",
    "    if i>40&i<=60:\n",
    "        return (i-40)*0.03 + lirun(40)\n",
    "    if i>60&i<=100:\n",
    "        return (i-60)*0.015 + lirun(60)\n",
    "    if i>100:\n",
    "        return  (i-100)*0.01 + lirun(100)\n",
    "\n",
    "i = input(\"请输入当月利润\")\n",
    "print('应发放奖金总数为:%f'%lirun(i))"
   ],
   "metadata": {
    "collapsed": false,
    "pycharm": {
     "name": "#%%\n"
    }
   }
  },
  {
   "cell_type": "markdown",
   "metadata": {},
   "source": [
    "## T03\n",
    "\n",
    "输入三个整数x,y,z，请把这三个数由小到大输出"
   ]
  },
  {
   "cell_type": "code",
   "execution_count": null,
   "outputs": [],
   "source": [
    "arr = input(\"请输入：\")\n",
    "num = [int(n) for n in arr.split()]\n",
    "print(num.sort(reverse=True))"
   ],
   "metadata": {
    "collapsed": false,
    "pycharm": {
     "name": "#%%\n"
    }
   }
  },
  {
   "cell_type": "markdown",
   "metadata": {},
   "source": [
    "## T04\n",
    "\n",
    "将一个列表的数据复制到另一个列表中"
   ]
  },
  {
   "cell_type": "code",
   "execution_count": null,
   "outputs": [],
   "source": [
    "li1 = [1,2,3,4,5]\n",
    "li2 = li1[:]"
   ],
   "metadata": {
    "collapsed": false,
    "pycharm": {
     "name": "#%%\n"
    }
   }
  },
  {
   "cell_type": "markdown",
   "metadata": {},
   "source": [
    "## T05\n",
    "\n",
    "暂停一秒输出,并格式化当前时间。使用 time 模块的 sleep() 函数。"
   ]
  },
  {
   "cell_type": "code",
   "execution_count": null,
   "outputs": [],
   "source": [
    "import time\n",
    "print(time.strftime(\"%Y-%m-%d %H:%M:%S\", time.localtime()))\n",
    "time.sleep(1)\n",
    "print(time.strftime(\"%Y-%m-%d %H:%M:%S\", time.localtime()))"
   ],
   "metadata": {
    "collapsed": false,
    "pycharm": {
     "name": "#%%\n"
    }
   }
  },
  {
   "cell_type": "markdown",
   "metadata": {},
   "source": [
    "## T06\n",
    "\n",
    "打印出所有的\"水仙花数\"，所谓\"水仙花数\"是指一个三位数，其各位数字立方和等于该数本身。例如：153是一个\"水仙花数\"，因为153=1的三次方＋5的三次方＋3的三次方。"
   ]
  },
  {
   "cell_type": "code",
   "execution_count": null,
   "outputs": [],
   "source": [
    "import math\n",
    "\n",
    "for i in range(100, 1000):\n",
    "    x = math.floor(i/100)\n",
    "    y = math.floor((i - x*100)/10)\n",
    "    z = i - math.floor(i/10) *10\n",
    "    print(\"水仙花数共有:\",end=' ')\n",
    "    if i == x**3 + y**3 + z**3:\n",
    "        print(i, end=', ')"
   ],
   "metadata": {
    "collapsed": false,
    "pycharm": {
     "name": "#%%\n"
    }
   }
  },
  {
   "cell_type": "markdown",
   "metadata": {},
   "source": [
    "## T07\n",
    "\n",
    "输入一行字符，分别统计出其中英文字母、空格、数字和其它字符的个数。"
   ]
  },
  {
   "cell_type": "code",
   "execution_count": null,
   "outputs": [],
   "source": [
    "tmpStr = input('请输入字符：')\n",
    "alphaNum=0\n",
    "numbers=0\n",
    "spaceNum=0\n",
    "otherNum=0\n",
    "for i in tmpStr:\n",
    "    if i.isalpha():\n",
    "        alphaNum += 1\n",
    "    elif i.isnumeric():\n",
    "        numbers += 1\n",
    "    elif i.isspace():\n",
    "        spaceNum += 1\n",
    "    else:\n",
    "        otherNum += 1\n",
    "print('字母的个数=%d'%alphaNum)\n",
    "print('数字的个数=%d'%numbers)\n",
    "print('空格的个数=%d'%spaceNum)\n",
    "print('其他的个数=%d'%otherNum)"
   ],
   "metadata": {
    "collapsed": false,
    "pycharm": {
     "name": "#%%\n"
    }
   }
  },
  {
   "cell_type": "markdown",
   "metadata": {
    "pycharm": {
     "name": "#%% md\n"
    }
   },
   "source": [
    "## T08\n",
    "\n",
    "一球从100米高度自由落下，每次落地后反跳回原高度的一半；再落下，求它在第10次落地时，共经过多少米？第10次反弹多高？"
   ]
  },
  {
   "cell_type": "code",
   "execution_count": null,
   "outputs": [],
   "source": [
    "h = int(input(\"请输入下落高度：\"))\n",
    "c = int(input(\"请输入落地次数：\"))\n",
    "tour = []\n",
    "height = []\n",
    "for i in range(1,c+1):\n",
    "    if i == 1:\n",
    "        tour.append(h)\n",
    "    else:\n",
    "        tour.append(2*h)\n",
    "    h /= 2\n",
    "    height.append(h)\n",
    "s = sum(tour)\n",
    "u = height[-1]\n",
    "\n",
    "print(\"球下落%d次经过的总路程为:%f\"%(c,s))\n",
    "print(\"球下落第%d次的反弹高度为:%f\"%(c,u))"
   ],
   "metadata": {
    "collapsed": false,
    "pycharm": {
     "name": "#%%\n"
    }
   }
  }
 ],
 "metadata": {
  "kernelspec": {
   "display_name": "Python 3",
   "language": "python",
   "name": "python3"
  },
  "language_info": {
   "codemirror_mode": {
    "name": "ipython",
    "version": 3
   },
   "file_extension": ".py",
   "mimetype": "text/x-python",
   "name": "python",
   "nbconvert_exporter": "python",
   "pygments_lexer": "ipython3",
   "version": "3.8.3"
  },
  "toc": {
   "base_numbering": 1,
   "nav_menu": {},
   "number_sections": true,
   "sideBar": true,
   "skip_h1_title": false,
   "title_cell": "Table of Contents",
   "title_sidebar": "Contents",
   "toc_cell": false,
   "toc_position": {},
   "toc_section_display": true,
   "toc_window_display": false
  },
  "pycharm": {
   "stem_cell": {
    "cell_type": "raw",
    "source": [],
    "metadata": {
     "collapsed": false
    }
   }
  }
 },
 "nbformat": 4,
 "nbformat_minor": 4
}