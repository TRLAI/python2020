{
 "cells": [
  {
   "cell_type": "code",
   "execution_count": 3,
   "metadata": {},
   "outputs": [
    {
     "name": "stdout",
     "output_type": "stream",
     "text": [
      "123  124  132  134  142  143  \n",
      "213  214  231  234  241  243  \n",
      "312  314  321  324  341  342  \n",
      "412  413  421  423  431  432  \n",
      "最终结果为：24个\n"
     ]
    }
   ],
   "source": [
    "tar = [1, 2, 3, 4]\n",
    "count = 0\n",
    "for i in range(len(tar)):\n",
    "    x = str(tar.pop(i))\n",
    "    for j in range(len(tar)):\n",
    "        y = str(tar.pop(j))\n",
    "        for k in range(len(tar)):\n",
    "            print(x + y + str(tar[k]), end='  ')\n",
    "            count += 1\n",
    "        tar.insert(j, int(y))\n",
    "    tar.insert(i, int(x))\n",
    "    print('')\n",
    "print('最终结果为：%s个' % count)\n"
   ]
  },
  {
   "cell_type": "code",
   "execution_count": 4,
   "metadata": {},
   "outputs": [
    {
     "name": "stdout",
     "output_type": "stream",
     "text": [
      "请输入当月利润（万）:\n",
      "15\n",
      "你有 16.375000 万奖金 "
     ]
    }
   ],
   "source": [
    "num=input(\"请输入当月利润（万）:\\n\")\n",
    "num2=float(num)\n",
    "if num2<=0:\n",
    "    print(\"金额错误\")\n",
    "elif num2<=10:\n",
    "    print (\"你有 %f 万奖金\"%(num2*1.1),end=\" \")\n",
    "elif num2<=20:\n",
    "     print (\"你有 %f 万奖金\"%(11+(num2-10)*1.075),end=\" \")\n",
    "elif num2<=40:\n",
    "    print (\"你有 %f 万奖金\"%(21.75+(num2-20)*1.05),end=\" \")\n",
    "elif num2<=60:\n",
    "    print (\"你有 %f 万奖金\"%(42.75+(num2-40)*1.03),end=\" \")\n",
    "elif num2<=100:\n",
    "    print (\"你有 %f 万奖金\"%(63.35+(num2-60)*1.015),end=\" \")\n",
    "else:\n",
    "    print (\"你有 %f 万奖金\"%(103.95+(num2-100)*1.01),end=\" \")\n"
   ]
  },
  {
   "cell_type": "code",
   "execution_count": 5,
   "metadata": {},
   "outputs": [
    {
     "name": "stdout",
     "output_type": "stream",
     "text": [
      "请输入第1个整数：5\n",
      "请输入第2个整数：9\n",
      "请输入第3个整数：4\n",
      "由小到大： [4, 5, 9]\n"
     ]
    }
   ],
   "source": [
    "numbers = []\n",
    "for i in range(4):\n",
    "    if i > 0:\n",
    "        x = int(input(f\"请输入第{i}个整数：\"))\n",
    "        numbers.append(x)\n",
    "print(\"由小到大：\",sorted(numbers))"
   ]
  },
  {
   "cell_type": "code",
   "execution_count": 6,
   "metadata": {},
   "outputs": [
    {
     "name": "stdout",
     "output_type": "stream",
     "text": [
      "[1, 2, 3, 4]\n",
      "[]\n",
      "地址赋值------------------\n",
      "[1, 2, 3, 4]\n",
      "调用函数-------------------\n",
      "[1, 2, 3, 4]\n",
      "遍历列表赋值-------------\n",
      "\n",
      "[1, 2, 3, 4]\n",
      "列表生成发---------------------\n",
      "[0, 1, 2, 3, 4]\n"
     ]
    }
   ],
   "source": [
    "list1 = [x for x in range(1,5)]\n",
    "list2 = []\n",
    "print(list1)\n",
    "print(list2) #初始化\n",
    "\n",
    "print('地址赋值------------------')\n",
    "list2 = list1\n",
    "print (list2)\n",
    "\n",
    "print('调用函数-------------------')\n",
    "list3 = []\n",
    "list3 = list1.copy()\n",
    "print(list3)\n",
    "print('遍历列表赋值-------------\\n')\n",
    "list4 = []\n",
    "for i in range(len(list1)):\n",
    "    list4.append(list1[i])\n",
    "print(list4)\n",
    "\n",
    "print('列表生成发---------------------')\n",
    "a = [x for x in range(0,5)]\n",
    "b = [i for i in a]\n",
    "print(b)"
   ]
  },
  {
   "cell_type": "code",
   "execution_count": 11,
   "metadata": {},
   "outputs": [
    {
     "name": "stdout",
     "output_type": "stream",
     "text": [
      "2020-11-20 21:33:48\n",
      "2020-11-20 21:33:49\n"
     ]
    }
   ],
   "source": [
    "import time\n",
    "print(time.strftime(\"%Y-%m-%d %H:%M:%S\", time.localtime()))\n",
    "time.sleep(1)\n",
    "print(time.strftime(\"%Y-%m-%d %H:%M:%S\", time.localtime()))"
   ]
  },
  {
   "cell_type": "code",
   "execution_count": 12,
   "metadata": {},
   "outputs": [
    {
     "name": "stdout",
     "output_type": "stream",
     "text": [
      "[1, 2, 3, 4, 5, 6, 7, 8, 9, 153, 370, 371, 407, 1634, 8208, 9474, 54748, 92727, 93084]\n"
     ]
    }
   ],
   "source": [
    "a = [j for j in range(1, 10 ** 5)\n",
    "     if sum([(ord(i) - 48) ** len(str(j)) for i in str(j)]) == j]\n",
    "print(a)"
   ]
  },
  {
   "cell_type": "code",
   "execution_count": 13,
   "metadata": {},
   "outputs": [
    {
     "name": "stdout",
     "output_type": "stream",
     "text": [
      "请输入一串字符:\n",
      "asdt1234\n",
      "char=4,space=0,digit=4,others=0\n"
     ]
    }
   ],
   "source": [
    "s=input('请输入一串字符:\\n')\n",
    "letters=0\n",
    "space=0\n",
    "digit=0\n",
    "others=0\n",
    "for c in s:\n",
    "    if c.isalpha():\n",
    "        letters+=1\n",
    "    elif c.isspace():\n",
    "        space+=1\n",
    "    elif c.isdigit():\n",
    "        digit+=1\n",
    "    else:\n",
    "        others+=1\n",
    "print('char=%d,space=%d,digit=%d,others=%d'%(letters,space,digit,others))"
   ]
  },
  {
   "cell_type": "code",
   "execution_count": 14,
   "metadata": {},
   "outputs": [
    {
     "name": "stdout",
     "output_type": "stream",
     "text": [
      "第1次从100米高落地，走过100米，反弹至50.0米。\n",
      "第2次从50.0米高落地，共走过200米，反弹至25.0米。\n",
      "第3次从25.0米高落地，共走过250.0米，反弹至12.5米。\n",
      "第4次从12.5米高落地，共走过275.0米，反弹至6.25米。\n",
      "第5次从6.25米高落地，共走过287.5米，反弹至3.125米。\n",
      "第6次从3.125米高落地，共走过293.75米，反弹至1.5625米。\n",
      "第7次从1.5625米高落地，共走过296.875米，反弹至0.78125米。\n",
      "第8次从0.78125米高落地，共走过298.4375米，反弹至0.390625米。\n",
      "第9次从0.390625米高落地，共走过299.21875米，反弹至0.1953125米。\n",
      "第10次从0.1953125米高落地，共走过299.609375米，反弹至0.09765625米。\n"
     ]
    }
   ],
   "source": [
    "a = [100] \n",
    "h = 100  \n",
    "print('第1次从%s米高落地，走过%s米，反弹至%s米。' % (h, a[0], h/2))\n",
    "for i in range(2,11): \n",
    "    a.append(h) \n",
    "    h = h / 2\n",
    "    print('第%s次从%s米高落地，共走过%s米，反弹至%s米。' % (i, h, sum(a), h / 2))"
   ]
  },
  {
   "cell_type": "code",
   "execution_count": null,
   "metadata": {},
   "outputs": [],
   "source": []
  }
 ],
 "metadata": {
  "kernelspec": {
   "display_name": "Python 3",
   "language": "python",
   "name": "python3"
  },
  "language_info": {
   "codemirror_mode": {
    "name": "ipython",
    "version": 3
   },
   "file_extension": ".py",
   "mimetype": "text/x-python",
   "name": "python",
   "nbconvert_exporter": "python",
   "pygments_lexer": "ipython3",
   "version": "3.7.6"
  }
 },
 "nbformat": 4,
 "nbformat_minor": 4
}
