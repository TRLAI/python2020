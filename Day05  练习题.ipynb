{
 "cells": [
  {
   "cell_type": "markdown",
   "metadata": {},
   "source": [
    "# T01\n"
   ]
  },
  {
   "cell_type": "markdown",
   "metadata": {},
   "source": [
    "有四个数字：1、2、3、4，能组成多少个互不相同且无重复数字的三位数？各是多少？"
   ]
  },
  {
   "cell_type": "code",
   "execution_count": 11,
   "metadata": {},
   "outputs": [
    {
     "name": "stdout",
     "output_type": "stream",
     "text": [
      "[123, 124, 132, 134, 142, 143, 213, 214, 231, 234, 241, 243, 312, 314, 321, 324, 341, 342, 412, 413, 421, 423, 431, 432]\n",
      "三位数总计 24 个\n"
     ]
    }
   ],
   "source": [
    "a = ['1','2','3','4']\n",
    " \n",
    "sum=[]\n",
    "for i in a:\n",
    "    for j in [x for x  in a if x!=i]:\n",
    "        for m in [x for x in a if x!=i and x!=j]:\n",
    "            sum.append(int(i+j+m))\n",
    "print(sum)\n",
    "print('三位数总计 %s 个'%len(sum))"
   ]
  },
  {
   "cell_type": "markdown",
   "metadata": {},
   "source": [
    "# T02"
   ]
  },
  {
   "cell_type": "markdown",
   "metadata": {},
   "source": [
    "企业发放的奖金根据利润提成。利润(I)低于或等于10万元时，奖金可提10%；利润高于10万元，低于20万元时，低于10万元的部分按10%提成，高于10万元的部分，可提成7.5%；20万到40万之间时，高于20万元的部分，可提成5%；40万到60万之间时高于40万元的部分，可提成3%；60万到100万之间时，高于60万元的部分，可提成1.5%，高于100万元时，超过100万元的部分按1%提成，从键盘输入当月利润I，求应发放奖金总数？"
   ]
  },
  {
   "cell_type": "code",
   "execution_count": 13,
   "metadata": {},
   "outputs": [
    {
     "name": "stdout",
     "output_type": "stream",
     "text": [
      "请输入当月利润，单位为万元：8\n",
      "当月应发放奖金总数为0.8万元\n"
     ]
    }
   ],
   "source": [
    "money = float(input(\"请输入当月利润，单位为万元：\"))\n",
    "bonus = 0\n",
    "li = [100,60,40,20,10,0]\n",
    "bi = [0.01,0.015,0.03,0.05,0.075,0.1]\n",
    "\n",
    "for i in range(6):\n",
    "    if money > li[i]:\n",
    "        cmoney = money - li[i]\n",
    "        bonus = bonus + cmoney * bi[i]\n",
    "        #money = money - cmoney\n",
    "        money = li[i]\n",
    "\n",
    "print(\"当月应发放奖金总数为%s万元\" %bonus)"
   ]
  },
  {
   "cell_type": "markdown",
   "metadata": {},
   "source": [
    "# T03"
   ]
  },
  {
   "cell_type": "markdown",
   "metadata": {},
   "source": [
    "输入三个整数x,y,z，请把这三个数由小到大输出"
   ]
  },
  {
   "cell_type": "code",
   "execution_count": 14,
   "metadata": {},
   "outputs": [
    {
     "name": "stdout",
     "output_type": "stream",
     "text": [
      "1\n",
      "2\n",
      "3\n",
      "排序后：\n",
      "1,2,3,"
     ]
    }
   ],
   "source": [
    "x=input()\n",
    "y=input()\n",
    "z=input()\n",
    "list = [x,y,z]\n",
    "s_list = sorted(list)\n",
    "print(\"排序后：\")\n",
    "for i in s_list:\n",
    "    print(i,end=',')"
   ]
  },
  {
   "cell_type": "markdown",
   "metadata": {},
   "source": [
    "# T04"
   ]
  },
  {
   "cell_type": "markdown",
   "metadata": {},
   "source": [
    "将一个列表的数据复制到另一个列表中"
   ]
  },
  {
   "cell_type": "code",
   "execution_count": null,
   "metadata": {},
   "outputs": [],
   "source": [
    "a=[1,2,3,4]\n",
    "b=a.copy()\n",
    "b"
   ]
  },
  {
   "cell_type": "markdown",
   "metadata": {},
   "source": [
    "# T05"
   ]
  },
  {
   "cell_type": "markdown",
   "metadata": {},
   "source": [
    "暂停一秒输出,并格式化当前时间。使用 time 模块的 sleep() 函数。"
   ]
  },
  {
   "cell_type": "code",
   "execution_count": 18,
   "metadata": {},
   "outputs": [
    {
     "name": "stdout",
     "output_type": "stream",
     "text": [
      "a\n",
      "b\n"
     ]
    }
   ],
   "source": [
    "import time\n",
    "print('a')\n",
    "time.sleep(1)\n",
    "print('b')"
   ]
  },
  {
   "cell_type": "markdown",
   "metadata": {},
   "source": [
    "# T06"
   ]
  },
  {
   "cell_type": "markdown",
   "metadata": {},
   "source": [
    "打印出所有的\"水仙花数\"，所谓\"水仙花数\"是指一个三位数，其各位数字立方和等于该数本身。例如：153是一个\"水仙花数\"，因为153=1的三次方＋5的三次方＋3的三次方。"
   ]
  },
  {
   "cell_type": "code",
   "execution_count": 17,
   "metadata": {},
   "outputs": [
    {
     "name": "stdout",
     "output_type": "stream",
     "text": [
      "1\n",
      "2\n",
      "3\n",
      "4\n",
      "5\n",
      "6\n",
      "7\n",
      "8\n",
      "9\n",
      "153\n",
      "370\n",
      "371\n",
      "407\n",
      "1634\n",
      "8208\n",
      "9474\n"
     ]
    }
   ],
   "source": [
    "start = 1\n",
    "end = 10000\n",
    "for i in range(start, end + 1):\n",
    "    sm = 0\n",
    "    for j in str(i):\n",
    "        sm += (ord(j) - 48) ** len(str(i))\n",
    "    # 判断是否为水仙花数\n",
    "    if sm == i:\n",
    "        print(i)\n",
    "#这里输出1"
   ]
  },
  {
   "cell_type": "markdown",
   "metadata": {},
   "source": [
    "# T07"
   ]
  },
  {
   "cell_type": "markdown",
   "metadata": {},
   "source": [
    "输入一行字符，分别统计出其中英文字母、空格、数字和其它字符的个数。"
   ]
  },
  {
   "cell_type": "code",
   "execution_count": 16,
   "metadata": {},
   "outputs": [
    {
     "name": "stdout",
     "output_type": "stream",
     "text": [
      "input a string:\n",
      "艾师傅会，。/，\n",
      "字符数=4,空格数=0,数字数=0,其他字符数=4\n"
     ]
    }
   ],
   "source": [
    "s=input('input a string:\\n')\n",
    "letters=0\n",
    "space=0\n",
    "digit=0\n",
    "others=0\n",
    "for c in s:\n",
    "    if c.isalpha():\n",
    "        letters+=1\n",
    "    elif c.isspace():\n",
    "        space+=1\n",
    "    elif c.isdigit():\n",
    "        digit+=1\n",
    "    else:\n",
    "        others+=1\n",
    "print('字符数=%d,空格数=%d,数字数=%d,其他字符数=%d'%(letters,space,digit,others))"
   ]
  },
  {
   "cell_type": "markdown",
   "metadata": {},
   "source": [
    "# T08"
   ]
  },
  {
   "cell_type": "markdown",
   "metadata": {},
   "source": [
    "一球从100米高度自由落下，每次落地后反跳回原高度的一半；再落下，求它在第10次落地时，共经过多少米？第10次反弹多高？"
   ]
  },
  {
   "cell_type": "code",
   "execution_count": 29,
   "metadata": {},
   "outputs": [
    {
     "name": "stdout",
     "output_type": "stream",
     "text": [
      "落地的高度为：50\n",
      "125.0\n",
      "12.5\n"
     ]
    }
   ],
   "source": [
    "n = int(input('落地的高度为：'))\n",
    "#ciShu = int(input('落地的次数：'))\n",
    "sum = 0\n",
    "for ciShu in range(1,4):\n",
    "    if ciShu==1:\n",
    "        sum +=n;\n",
    "    else:\n",
    "        n /=2\n",
    "        sum += n*2\n",
    "print(sum)\n",
    "print(n)"
   ]
  },
  {
   "cell_type": "code",
   "execution_count": null,
   "metadata": {},
   "outputs": [],
   "source": []
  },
  {
   "cell_type": "code",
   "execution_count": null,
   "metadata": {},
   "outputs": [],
   "source": []
  }
 ],
 "metadata": {
  "kernelspec": {
   "display_name": "Python 3",
   "language": "python",
   "name": "python3"
  },
  "language_info": {
   "codemirror_mode": {
    "name": "ipython",
    "version": 3
   },
   "file_extension": ".py",
   "mimetype": "text/x-python",
   "name": "python",
   "nbconvert_exporter": "python",
   "pygments_lexer": "ipython3",
   "version": "3.7.6"
  }
 },
 "nbformat": 4,
 "nbformat_minor": 4
}
