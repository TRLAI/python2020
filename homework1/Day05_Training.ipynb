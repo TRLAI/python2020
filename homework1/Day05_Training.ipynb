{
 "cells": [
  {
   "cell_type": "markdown",
   "metadata": {},
   "source": [
    "# Day05 练习题"
   ]
  },
  {
   "cell_type": "markdown",
   "metadata": {},
   "source": [
    "## T01\n",
    "\n",
    "有四个数字：1、2、3、4，能组成多少个互不相同且无重复数字的三位数？各是多少？"
   ]
  },
  {
   "cell_type": "code",
   "execution_count": 1,
   "metadata": {},
   "outputs": [
    {
     "name": "stdout",
     "output_type": "stream",
     "text": [
      "[123, 124, 132, 134, 142, 143, 213, 214, 231, 234, 241, 243, 312, 314, 321, 324, 341, 342, 412, 413, 421, 423, 431, 432]\n",
      "互不相同且无重复数字的三位数有24个\n"
     ]
    }
   ],
   "source": [
    "a = ['1','2','3','4']\n",
    "b = []\n",
    "for i in a: \n",
    "    for j in [x for x  in a if x!=i]:\n",
    "        for m in [x for x in a if x!=i and x!=j]:         \n",
    "            b.append(int(i+j+m))\n",
    "print (b)\n",
    "print ('互不相同且无重复数字的三位数有%s个'%len(b))"
   ]
  },
  {
   "cell_type": "markdown",
   "metadata": {},
   "source": [
    "## T02\n",
    "\n",
    "企业发放的奖金根据利润提成。利润(I)低于或等于10万元时，奖金可提10%；利润高于10万元，低于20万元时，低于10万元的部分按10%提成，高于10万元的部分，可提成7.5%；20万到40万之间时，高于20万元的部分，可提成5%；40万到60万之间时高于40万元的部分，可提成3%；60万到100万之间时，高于60万元的部分，可提成1.5%，高于100万元时，超过100万元的部分按1%提成，从键盘输入当月利润I，求应发放奖金总数？"
   ]
  },
  {
   "cell_type": "code",
   "execution_count": 2,
   "metadata": {},
   "outputs": [
    {
     "name": "stdout",
     "output_type": "stream",
     "text": [
      "利润为: 1234567\n",
      "2345.67\n",
      "18000.0\n",
      "10000.0\n",
      "7500.0\n",
      "10000.0\n",
      "应该发放的奖金总额是47845.670000万元\n"
     ]
    }
   ],
   "source": [
    "profit = int(input('利润为: '))\n",
    "arr = [1000000,6000000,400000,200000,100000,0]\n",
    "rat = [0.01,0.015,0.03,0.05,0.075,0.1]\n",
    "reward = 0.0\n",
    "for idx in range(6):\n",
    "    if profit > arr[idx]:\n",
    "        tmp = (profit - arr[idx])*rat[idx]\n",
    "        reward += tmp\n",
    "        print(tmp) \n",
    "        profit = arr[idx]\n",
    "print('应该发放的奖金总额是%f万元'%reward)"
   ]
  },
  {
   "cell_type": "markdown",
   "metadata": {},
   "source": [
    "## T03\n",
    "\n",
    "输入三个整数x,y,z，请把这三个数由小到大输出"
   ]
  },
  {
   "cell_type": "code",
   "execution_count": 3,
   "metadata": {},
   "outputs": [
    {
     "name": "stdout",
     "output_type": "stream",
     "text": [
      "请输入需要排序三个数字：\n",
      "2\n",
      "1\n",
      "3\n",
      "从小到大排序后：\n",
      "1,2,3,"
     ]
    }
   ],
   "source": [
    "print(\"请输入需要排序三个数字：\")\n",
    "x=input()\n",
    "y=input()\n",
    "z=input()\n",
    "list = [x,y,z]\n",
    "s_list = sorted(list)\n",
    "print(\"从小到大排序后：\")\n",
    "for i in s_list:\n",
    "    print(i,end=',')"
   ]
  },
  {
   "cell_type": "markdown",
   "metadata": {},
   "source": [
    "## T04\n",
    "\n",
    "将一个列表的数据复制到另一个列表中"
   ]
  },
  {
   "cell_type": "code",
   "execution_count": 4,
   "metadata": {},
   "outputs": [
    {
     "data": {
      "text/plain": [
       "[10, 9, 8, 7]"
      ]
     },
     "execution_count": 4,
     "metadata": {},
     "output_type": "execute_result"
    }
   ],
   "source": [
    "a=[10,9,8,7]\n",
    "b=a.copy()\n",
    "b"
   ]
  },
  {
   "cell_type": "markdown",
   "metadata": {},
   "source": [
    "## T05\n",
    "\n",
    "暂停一秒输出,并格式化当前时间。使用 time 模块的 sleep() 函数。"
   ]
  },
  {
   "cell_type": "code",
   "execution_count": 5,
   "metadata": {},
   "outputs": [
    {
     "name": "stdout",
     "output_type": "stream",
     "text": [
      "2020-11-20 19:41:48\n",
      "2020-11-20 19:41:49\n"
     ]
    }
   ],
   "source": [
    "import time\n",
    "print(time.strftime(\"%Y-%m-%d %H:%M:%S\", time.localtime()))\n",
    "time.sleep(1)\n",
    "print(time.strftime(\"%Y-%m-%d %H:%M:%S\", time.localtime()))"
   ]
  },
  {
   "cell_type": "markdown",
   "metadata": {},
   "source": [
    "## T06\n",
    "\n",
    "打印出所有的\"水仙花数\"，所谓\"水仙花数\"是指一个三位数，其各位数字立方和等于该数本身。例如：153是一个\"水仙花数\"，因为153=1的三次方＋5的三次方＋3的三次方。"
   ]
  },
  {
   "cell_type": "code",
   "execution_count": 6,
   "metadata": {},
   "outputs": [
    {
     "name": "stdout",
     "output_type": "stream",
     "text": [
      "153\n",
      "370\n",
      "371\n",
      "407\n"
     ]
    }
   ],
   "source": [
    "for i in range(100,1000):\n",
    "    a = int(i/100)\n",
    "    b = int(i/10)-a*10\n",
    "    c = i - a*100 - b*10\n",
    "    if i == a**3+b**3+c**3:\n",
    "        print(i)"
   ]
  },
  {
   "cell_type": "markdown",
   "metadata": {},
   "source": [
    "## T07\n",
    "\n",
    "输入一行字符，分别统计出其中英文字母、空格、数字和其它字符的个数。"
   ]
  },
  {
   "cell_type": "code",
   "execution_count": 7,
   "metadata": {},
   "outputs": [
    {
     "name": "stdout",
     "output_type": "stream",
     "text": [
      "输入一行字符：adsf789  =-\n",
      "space= 2 word= 4 num= 3 other= 2\n"
     ]
    }
   ],
   "source": [
    "n = input(\"输入一行字符：\")\n",
    "space = 0\n",
    "word = 0\n",
    "num = 0\n",
    "other = 0\n",
    "for i in n:\n",
    "    if i.isalpha():\n",
    "        word += 1\n",
    "    elif i.isdigit():\n",
    "        num += 1\n",
    "    elif i.isspace():\n",
    "        space += 1\n",
    "    else:\n",
    "        other += 1\n",
    "print('space=',space,'word=', word, 'num=',num, 'other=',other)"
   ]
  },
  {
   "cell_type": "markdown",
   "metadata": {},
   "source": [
    "## T08\n",
    "\n",
    "一球从100米高度自由落下，每次落地后反跳回原高度的一半；再落下，求它在第10次落地时，共经过多少米？第10次反弹多高？"
   ]
  },
  {
   "cell_type": "code",
   "execution_count": 8,
   "metadata": {
    "scrolled": true
   },
   "outputs": [
    {
     "name": "stdout",
     "output_type": "stream",
     "text": [
      "第1次从100米高落地，走过100米，之后又反弹至50.0米。\n",
      "第2次从50.0米高落地，共走过200米，之后又反弹至25.0米。\n",
      "第3次从25.0米高落地，共走过250.0米，之后又反弹至12.5米。\n",
      "第4次从12.5米高落地，共走过275.0米，之后又反弹至6.25米。\n",
      "第5次从6.25米高落地，共走过287.5米，之后又反弹至3.125米。\n",
      "第6次从3.125米高落地，共走过293.75米，之后又反弹至1.5625米。\n",
      "第7次从1.5625米高落地，共走过296.875米，之后又反弹至0.78125米。\n",
      "第8次从0.78125米高落地，共走过298.4375米，之后又反弹至0.390625米。\n",
      "第9次从0.390625米高落地，共走过299.21875米，之后又反弹至0.1953125米。\n",
      "第10次从0.1953125米高落地，共走过299.609375米，之后又反弹至0.09765625米。\n"
     ]
    }
   ],
   "source": [
    "a = [100]\n",
    "h = 100\n",
    "print('第1次从%s米高落地，走过%s米，之后又反弹至%s米。' % (h, a[0], h/2))\n",
    "for i in range(2,11):\n",
    "    a.append(h)\n",
    "    h = h / 2\n",
    "    print('第%s次从%s米高落地，共走过%s米，之后又反弹至%s米。' % (i, h, sum(a), h / 2))"
   ]
  }
 ],
 "metadata": {
  "kernelspec": {
   "display_name": "Python 3",
   "language": "python",
   "name": "python3"
  },
  "language_info": {
   "codemirror_mode": {
    "name": "ipython",
    "version": 3
   },
   "file_extension": ".py",
   "mimetype": "text/x-python",
   "name": "python",
   "nbconvert_exporter": "python",
   "pygments_lexer": "ipython3",
   "version": "3.8.3"
  },
  "toc": {
   "base_numbering": 1,
   "nav_menu": {},
   "number_sections": true,
   "sideBar": true,
   "skip_h1_title": false,
   "title_cell": "Table of Contents",
   "title_sidebar": "Contents",
   "toc_cell": false,
   "toc_position": {},
   "toc_section_display": true,
   "toc_window_display": false
  }
 },
 "nbformat": 4,
 "nbformat_minor": 4
}
