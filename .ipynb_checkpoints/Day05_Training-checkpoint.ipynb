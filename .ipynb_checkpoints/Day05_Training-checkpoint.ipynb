{
 "cells": [
  {
   "cell_type": "markdown",
   "metadata": {},
   "source": [
    "# Day05 练习题"
   ]
  },
  {
   "cell_type": "markdown",
   "metadata": {},
   "source": [
    "## T01\n",
    "\n",
    "有四个数字：1、2、3、4，能组成多少个互不相同且无重复数字的三位数？各是多少？"
   ]
  },
  {
   "cell_type": "code",
   "execution_count": 2,
   "metadata": {},
   "outputs": [
    {
     "name": "stdout",
     "output_type": "stream",
     "text": [
      "三位数分别为：[123, 124, 132, 134, 142, 143, 213, 214, 231, 234, 241, 243, 312, 314, 321, 324, 341, 342, 412, 413, 421, 423, 431, 432]\n",
      "三位数的个数是:24\n"
     ]
    }
   ],
   "source": [
    "a=[1,2,3,4]\n",
    "b=[]\n",
    "for i in range(len(a)):\n",
    "    for j in range(len(a)):\n",
    "        for z in range(len(a)):\n",
    "            if i!=j and j!=z and z!=i:\n",
    "                b.append(a[i]*100+a[j]*10+a[z])\n",
    "print('三位数分别为：'+str(b))\n",
    "print('三位数的个数是:'+str(len(b)))"
   ]
  },
  {
   "cell_type": "markdown",
   "metadata": {},
   "source": [
    "## T02\n",
    "\n",
    "企业发放的奖金根据利润提成。利润(I)低于或等于10万元时，奖金可提10%；利润高于10万元，低于20万元时，低于10万元的部分按10%提成，高于10万元的部分，可提成7.5%；20万到40万之间时，高于20万元的部分，可提成5%；40万到60万之间时高于40万元的部分，可提成3%；60万到100万之间时，高于60万元的部分，可提成1.5%，高于100万元时，超过100万元的部分按1%提成，从键盘输入当月利润I，求应发放奖金总数？"
   ]
  },
  {
   "cell_type": "code",
   "execution_count": 3,
   "metadata": {},
   "outputs": [
    {
     "name": "stdout",
     "output_type": "stream",
     "text": [
      "当月利润i为:103\n",
      "奖金提成为:3.98万元\n"
     ]
    }
   ],
   "source": [
    "i=int(input('当月利润i为:'))\n",
    "if i<=10:\n",
    "    i=i*0.1\n",
    "elif i<=20:\n",
    "    i=(i-10)*0.075+1\n",
    "elif i<=40:\n",
    "    i=(i-20)*0.05+1.75\n",
    "elif i<=60:\n",
    "    i=(i-40)*0.03+2.75\n",
    "elif i<=100:\n",
    "    i=(i-60)*0.015+3.35\n",
    "else:\n",
    "    i=(i-100)*0.01+3.95\n",
    "print('奖金提成为:'+str(i)+'万元')"
   ]
  },
  {
   "cell_type": "markdown",
   "metadata": {},
   "source": [
    "## T03\n",
    "\n",
    "输入三个整数x,y,z，请把这三个数由小到大输出"
   ]
  },
  {
   "cell_type": "code",
   "execution_count": 4,
   "metadata": {},
   "outputs": [
    {
     "name": "stdout",
     "output_type": "stream",
     "text": [
      "第一个整数:2\n",
      "第二个整数:5\n",
      "第三个正数:7\n",
      "[2, 5, 7]\n"
     ]
    }
   ],
   "source": [
    "a=[]\n",
    "i=int(input('第一个整数:'))\n",
    "a.append(i)\n",
    "j=int(input('第二个整数:'))\n",
    "a.append(j)\n",
    "z=int(input('第三个正数:'))\n",
    "a.append(z)\n",
    "print(sorted(a))"
   ]
  },
  {
   "cell_type": "markdown",
   "metadata": {},
   "source": [
    "## T04\n",
    "\n",
    "将一个列表的数据复制到另一个列表中"
   ]
  },
  {
   "cell_type": "code",
   "execution_count": 5,
   "metadata": {},
   "outputs": [
    {
     "name": "stdout",
     "output_type": "stream",
     "text": [
      "[1, 2, 3, 4]\n"
     ]
    }
   ],
   "source": [
    "a=[1,2,3,4]\n",
    "b=a[:]\n",
    "print(b)"
   ]
  },
  {
   "cell_type": "markdown",
   "metadata": {},
   "source": [
    "## T05\n",
    "\n",
    "暂停一秒输出,并格式化当前时间。使用 time 模块的 sleep() 函数。"
   ]
  },
  {
   "cell_type": "code",
   "execution_count": 6,
   "metadata": {},
   "outputs": [
    {
     "name": "stdout",
     "output_type": "stream",
     "text": [
      "2020-11-15 11:41:26\n",
      "2020-11-15 11:41:27\n"
     ]
    }
   ],
   "source": [
    "import time\n",
    "print (time.strftime('%Y-%m-%d %H:%M:%S', time.localtime(time.time())))\n",
    "time.sleep(1)\n",
    "print (time.strftime('%Y-%m-%d %H:%M:%S', time.localtime(time.time())))"
   ]
  },
  {
   "cell_type": "markdown",
   "metadata": {},
   "source": [
    "## T06\n",
    "\n",
    "打印出所有的\"水仙花数\"，所谓\"水仙花数\"是指一个三位数，其各位数字立方和等于该数本身。例如：153是一个\"水仙花数\"，因为153=1的三次方＋5的三次方＋3的三次方。"
   ]
  },
  {
   "cell_type": "code",
   "execution_count": 7,
   "metadata": {},
   "outputs": [
    {
     "name": "stdout",
     "output_type": "stream",
     "text": [
      "153\n",
      "370\n",
      "371\n",
      "407\n"
     ]
    }
   ],
   "source": [
    "for i in range(100,1000):\n",
    "    a=i//100\n",
    "    b=(i-a*100)//10\n",
    "    c=i%10\n",
    "    if i==(a**3+b**3+c**3):\n",
    "        print(i)"
   ]
  },
  {
   "cell_type": "markdown",
   "metadata": {},
   "source": [
    "## T07\n",
    "\n",
    "输入一行字符，分别统计出其中英文字母、空格、数字和其它字符的个数。"
   ]
  },
  {
   "cell_type": "code",
   "execution_count": 8,
   "metadata": {},
   "outputs": [
    {
     "name": "stdout",
     "output_type": "stream",
     "text": [
      "请输入:12e edjbwj 327\n",
      "数字个数5,字符个数7,空格个数2,其他字符个数0\n"
     ]
    }
   ],
   "source": [
    "n=input('请输入:')\n",
    "i=0\n",
    "s=0\n",
    "k=0\n",
    "q=0\n",
    "for j in n:\n",
    "    if 48<=ord(j)<=57:\n",
    "        i+=1\n",
    "    elif ord(j)==32:\n",
    "        k+=1\n",
    "    elif 65<+ord(j)<=90 or 97<=ord(j)<=122:\n",
    "        s+=1\n",
    "    else:\n",
    "        q+=1\n",
    "print('数字个数{},字符个数{},空格个数{},其他字符个数{}'.format(i,s,k,q))\n"
   ]
  },
  {
   "cell_type": "markdown",
   "metadata": {},
   "source": [
    "## T08\n",
    "\n",
    "一球从100米高度自由落下，每次落地后反跳回原高度的一半；再落下，求它在第10次落地时，共经过多少米？第10次反弹多高？"
   ]
  },
  {
   "cell_type": "code",
   "execution_count": 10,
   "metadata": {},
   "outputs": [
    {
     "name": "stdout",
     "output_type": "stream",
     "text": [
      "共进过299.609375米，第10次后，再反弹0.09765625米\n"
     ]
    }
   ],
   "source": [
    "s=100\n",
    "n=0\n",
    "for i in range(10):\n",
    "    n=n+s*2\n",
    "    s=s/2\n",
    "print('共进过{}米，第10次后，再反弹{}米'.format(n-100,s))"
   ]
  }
 ],
 "metadata": {
  "kernelspec": {
   "display_name": "Python 3",
   "language": "python",
   "name": "python3"
  },
  "language_info": {
   "codemirror_mode": {
    "name": "ipython",
    "version": 3
   },
   "file_extension": ".py",
   "mimetype": "text/x-python",
   "name": "python",
   "nbconvert_exporter": "python",
   "pygments_lexer": "ipython3",
   "version": "3.8.3"
  },
  "toc": {
   "base_numbering": 1,
   "nav_menu": {},
   "number_sections": true,
   "sideBar": true,
   "skip_h1_title": false,
   "title_cell": "Table of Contents",
   "title_sidebar": "Contents",
   "toc_cell": false,
   "toc_position": {},
   "toc_section_display": true,
   "toc_window_display": false
  }
 },
 "nbformat": 4,
 "nbformat_minor": 4
}
